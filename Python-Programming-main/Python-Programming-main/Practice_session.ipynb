{
 "cells": [
  {
   "cell_type": "code",
   "execution_count": 1,
   "id": "e9b7b015-1419-4153-b6a8-50358afaed96",
   "metadata": {},
   "outputs": [
    {
     "name": "stdin",
     "output_type": "stream",
     "text": [
      " 3 4 5 6 \n"
     ]
    },
    {
     "name": "stdout",
     "output_type": "stream",
     "text": [
      "6\n"
     ]
    }
   ],
   "source": [
    "x = list(input())\n",
    "y = max(x)\n",
    "print(y)"
   ]
  },
  {
   "cell_type": "code",
   "execution_count": 2,
   "id": "a2aded91-a173-41a8-80fa-66aabc27c32f",
   "metadata": {},
   "outputs": [
    {
     "name": "stdin",
     "output_type": "stream",
     "text": [
      " 2\n",
      " 3\n",
      " 4\n"
     ]
    },
    {
     "name": "stdout",
     "output_type": "stream",
     "text": [
      "7\n"
     ]
    }
   ],
   "source": [
    "n = int(input())\n",
    "sum1 = 0\n",
    "for i in range(0, n):\n",
    "    y = int(input())\n",
    "    sum1 = sum1 + y\n",
    "\n",
    "\n",
    "print(sum1)"
   ]
  },
  {
   "cell_type": "code",
   "execution_count": 3,
   "id": "046556c0-bf41-44fc-8adc-4d422026d21c",
   "metadata": {},
   "outputs": [
    {
     "name": "stdin",
     "output_type": "stream",
     "text": [
      " 3\n",
      " 4\n",
      " 45\n",
      " 56\n"
     ]
    },
    {
     "name": "stdout",
     "output_type": "stream",
     "text": [
      "105\n"
     ]
    }
   ],
   "source": [
    "a = int(input())\n",
    "sum2 = 0\n",
    "for i in range(a):\n",
    "    y = list(map(int, input().split()))\n",
    "    sum2 += sum(y)\n",
    "\n",
    "print(sum2)"
   ]
  },
  {
   "cell_type": "code",
   "execution_count": 4,
   "id": "ef5f43c7-9100-4694-a82f-9ca03b5a2586",
   "metadata": {},
   "outputs": [
    {
     "name": "stdin",
     "output_type": "stream",
     "text": [
      "Enter numbers separated by spaces:  3\n"
     ]
    },
    {
     "name": "stdout",
     "output_type": "stream",
     "text": [
      "The second largest number is: List does not have a second largest number.\n"
     ]
    }
   ],
   "source": [
    "def find_second_largest(numbers):\n",
    "    # Remove duplicates by converting to a set, then back to a sorted list\n",
    "    unique_numbers = list(set(numbers))\n",
    "    \n",
    "    # Check if there are at least two unique numbers\n",
    "    if len(unique_numbers) < 2:\n",
    "        return \"List does not have a second largest number.\"\n",
    "    \n",
    "    # Sort the list in descending order and return the second element\n",
    "    unique_numbers.sort(reverse=True)\n",
    "    return unique_numbers[1]\n",
    "\n",
    "# Take input from the user\n",
    "user_input = input(\"Enter numbers separated by spaces: \")\n",
    "numbers = [int(num) for num in user_input.split()]\n",
    "\n",
    "second_largest = find_second_largest(numbers)\n",
    "print(\"The second largest number is:\", second_largest)\n"
   ]
  },
  {
   "cell_type": "code",
   "execution_count": 5,
   "id": "7d7bd227-f993-4177-9323-166d6c513dbd",
   "metadata": {},
   "outputs": [
    {
     "name": "stdout",
     "output_type": "stream",
     "text": [
      "No of unique items are: 4\n"
     ]
    }
   ],
   "source": [
    "input_list = [3,2,3,780,90]\n",
    "\n",
    "l1 = []\n",
    "\n",
    "count = 0\n",
    "\n",
    "for item in input_list:\n",
    "    if item not in l1:\n",
    "        count += 1\n",
    "        l1.append(item)\n",
    "\n",
    "print(\"No of unique items are:\", count)"
   ]
  },
  {
   "cell_type": "code",
   "execution_count": 6,
   "id": "89d2c0f9-d41f-4aba-b08d-0a6994f90dd5",
   "metadata": {},
   "outputs": [
    {
     "data": {
      "text/plain": [
       "['apple', 'banana', 'mango']"
      ]
     },
     "execution_count": 6,
     "metadata": {},
     "output_type": "execute_result"
    }
   ],
   "source": [
    "fruits = [\"apple\", \"banana\", \"cherry\", \"mango\"]\n",
    "newlist = [x for x in fruits if \"a\" in x]\n",
    "newlist"
   ]
  },
  {
   "cell_type": "code",
   "execution_count": 7,
   "id": "cdaad304-5641-440a-9d22-0bb6ad9cefc1",
   "metadata": {},
   "outputs": [
    {
     "name": "stdin",
     "output_type": "stream",
     "text": [
      " 4\n"
     ]
    },
    {
     "name": "stdout",
     "output_type": "stream",
     "text": [
      "[4]\n"
     ]
    }
   ],
   "source": [
    "x = [int(x) for x in input().split()]\n",
    "print(x)\n",
    "# print(y)"
   ]
  },
  {
   "cell_type": "code",
   "execution_count": 13,
   "id": "274a7363-55a4-4484-a240-bee71920029b",
   "metadata": {},
   "outputs": [
    {
     "name": "stdout",
     "output_type": "stream",
     "text": [
      "[1, 2, 3, 4, 5, 6, 7, 8, 9, 10]\n",
      "[2, 4, 6, 8, 10]\n"
     ]
    }
   ],
   "source": [
    "list1 = list(range(1,11))\n",
    "odd = list1[::2]\n",
    "print(list1)\n",
    "print(odd)"
   ]
  },
  {
   "cell_type": "code",
   "execution_count": 15,
   "id": "69e6bcc2-14eb-4d9c-9302-0eca4e583349",
   "metadata": {
    "scrolled": true
   },
   "outputs": [
    {
     "name": "stdout",
     "output_type": "stream",
     "text": [
      "[1, 2, 3, 4, 5, 6, 7, 8, 9, 10]\n",
      "[2, 4, 6, 8, 10]\n"
     ]
    }
   ],
   "source": [
    "list1 = list(range(1,11))\n",
    "even = list1[1::2]\n",
    "print(list1)\n",
    "print(even)"
   ]
  },
  {
   "cell_type": "code",
   "execution_count": 18,
   "id": "55716749-2de3-4919-b32c-cc6a5f79144a",
   "metadata": {},
   "outputs": [
    {
     "name": "stdin",
     "output_type": "stream",
     "text": [
      " 4\n",
      " 23\n",
      " 56\n",
      " 789\n",
      " 30\n"
     ]
    },
    {
     "name": "stdout",
     "output_type": "stream",
     "text": [
      "Largest number 56\n",
      "Largest number 789\n"
     ]
    }
   ],
   "source": [
    "n = int(input())\n",
    "m = []\n",
    "for i in range(n):\n",
    "    a = int(input())\n",
    "    m.append(a)\n",
    "\n",
    "p = []\n",
    "q = []\n",
    "\n",
    "for i in m:\n",
    "    if i%2 == 0:\n",
    "        p.append(i)\n",
    "    else:\n",
    "        q.append(i)\n",
    "\n",
    "p.sort()\n",
    "q.sort()\n",
    "\n",
    "print(f\"Largest number {p[-1]}\")\n",
    "print(f\"Largest number {q[-1]}\")"
   ]
  },
  {
   "cell_type": "code",
   "execution_count": 21,
   "id": "6931dafa-2927-4db6-b39c-55a7cba0d83c",
   "metadata": {},
   "outputs": [
    {
     "name": "stdout",
     "output_type": "stream",
     "text": [
      "{1, 2, 3, 4}\n",
      "{2, 3}\n"
     ]
    }
   ],
   "source": [
    "set1 = {1, 2, 3}\n",
    "set2 = {2, 3, 4}\n",
    "\n",
    "union_result = set1.union(set2)\n",
    "intersection_result = set1.intersection(set2)\n",
    "print(union_result)\n",
    "print(intersection_result)"
   ]
  },
  {
   "cell_type": "code",
   "execution_count": null,
   "id": "c48bddf8-66c6-4281-bbf4-9dd99f7e942b",
   "metadata": {},
   "outputs": [],
   "source": []
  }
 ],
 "metadata": {
  "kernelspec": {
   "display_name": "Python 3 (ipykernel)",
   "language": "python",
   "name": "python3"
  },
  "language_info": {
   "codemirror_mode": {
    "name": "ipython",
    "version": 3
   },
   "file_extension": ".py",
   "mimetype": "text/x-python",
   "name": "python",
   "nbconvert_exporter": "python",
   "pygments_lexer": "ipython3",
   "version": "3.12.2"
  }
 },
 "nbformat": 4,
 "nbformat_minor": 5
}
