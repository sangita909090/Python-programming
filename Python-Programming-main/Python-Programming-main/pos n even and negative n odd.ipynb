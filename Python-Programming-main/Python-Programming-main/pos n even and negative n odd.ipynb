{
 "cells": [
  {
   "cell_type": "code",
   "execution_count": 17,
   "id": "393342f5-c7e8-4fee-ba8f-cb47d9cf890e",
   "metadata": {},
   "outputs": [
    {
     "name": "stdin",
     "output_type": "stream",
     "text": [
      "Enter a number:  -88\n"
     ]
    },
    {
     "name": "stdout",
     "output_type": "stream",
     "text": [
      "Negative\n"
     ]
    }
   ],
   "source": [
    "x = int(input(\"Enter a number: \"))\n",
    "\n",
    "if x == 0:\n",
    "    print(\"Number is Zero\")\n",
    "else:\n",
    "    if x > 0:\n",
    "        if x % 2 == 0:\n",
    "            print(\"Number is Even and Positive\")\n",
    "        else:\n",
    "            pass\n",
    "    else:\n",
    "        if x % 2 != 0:\n",
    "            print(\"Number is Odd and Negative\")\n",
    "        else:\n",
    "            print(\"Negative\")\n"
   ]
  },
  {
   "cell_type": "code",
   "execution_count": null,
   "id": "bda524f5-0402-482b-b0e6-b3c315719e56",
   "metadata": {},
   "outputs": [],
   "source": []
  }
 ],
 "metadata": {
  "kernelspec": {
   "display_name": "Python 3 (ipykernel)",
   "language": "python",
   "name": "python3"
  },
  "language_info": {
   "codemirror_mode": {
    "name": "ipython",
    "version": 3
   },
   "file_extension": ".py",
   "mimetype": "text/x-python",
   "name": "python",
   "nbconvert_exporter": "python",
   "pygments_lexer": "ipython3",
   "version": "3.12.2"
  }
 },
 "nbformat": 4,
 "nbformat_minor": 5
}
