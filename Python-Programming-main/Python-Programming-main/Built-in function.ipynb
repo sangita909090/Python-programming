{
 "cells": [
  {
   "cell_type": "code",
   "execution_count": 1,
   "id": "bc9c2bc8-e7e0-4545-956b-d21c6b1d42e4",
   "metadata": {},
   "outputs": [
    {
     "name": "stdout",
     "output_type": "stream",
     "text": [
      "24\n"
     ]
    }
   ],
   "source": [
    "import math\n",
    "print(max(10,24,2))"
   ]
  },
  {
   "cell_type": "code",
   "execution_count": 2,
   "id": "fce60575-3fb1-4dc7-bb26-c6db1c76dd56",
   "metadata": {},
   "outputs": [
    {
     "data": {
      "text/plain": [
       "6"
      ]
     },
     "execution_count": 2,
     "metadata": {},
     "output_type": "execute_result"
    }
   ],
   "source": [
    "a = [9,17,14,4,90,55]\n",
    "len(a)"
   ]
  },
  {
   "cell_type": "code",
   "execution_count": 3,
   "id": "7612d82b-b24f-469f-ba86-d1001ae4edab",
   "metadata": {},
   "outputs": [
    {
     "data": {
      "text/plain": [
       "4"
      ]
     },
     "execution_count": 3,
     "metadata": {},
     "output_type": "execute_result"
    }
   ],
   "source": [
    "a = [9,17,14,4,90,55]\n",
    "min(a)"
   ]
  },
  {
   "cell_type": "code",
   "execution_count": 4,
   "id": "d1f32f21-a905-4603-b632-edd06d20f191",
   "metadata": {},
   "outputs": [
    {
     "data": {
      "text/plain": [
       "90"
      ]
     },
     "execution_count": 4,
     "metadata": {},
     "output_type": "execute_result"
    }
   ],
   "source": [
    "a = [9,17,14,4,90,55]\n",
    "max(a)"
   ]
  },
  {
   "cell_type": "code",
   "execution_count": 5,
   "id": "3faca590-33e6-472b-877d-67995762cd80",
   "metadata": {},
   "outputs": [
    {
     "data": {
      "text/plain": [
       "189"
      ]
     },
     "execution_count": 5,
     "metadata": {},
     "output_type": "execute_result"
    }
   ],
   "source": [
    "a = [9,17,14,4,90,55]\n",
    "sum(a)"
   ]
  },
  {
   "cell_type": "code",
   "execution_count": 8,
   "id": "81be8f44-2055-4376-95ac-460b67904252",
   "metadata": {},
   "outputs": [
    {
     "data": {
      "text/plain": [
       "31.5"
      ]
     },
     "execution_count": 8,
     "metadata": {},
     "output_type": "execute_result"
    }
   ],
   "source": [
    "a = [9,17,14,4,90,55]\n",
    "b = sum(a) / len(a)\n",
    "b"
   ]
  },
  {
   "cell_type": "code",
   "execution_count": 17,
   "id": "1d6ec8ba-800e-416b-99f8-19f525d71e3c",
   "metadata": {},
   "outputs": [
    {
     "name": "stdout",
     "output_type": "stream",
     "text": [
      "[1, 2, 3, 4, 5, 6, 7, 8, 9, 10]\n",
      "[1, 3, 5, 7, 9]\n",
      "[2, 4, 6, 8, 10]\n"
     ]
    }
   ],
   "source": [
    "a = list(range(1,11))\n",
    "print(a)\n",
    "odd = a[::2]\n",
    "print(odd)\n",
    "even = a[1::2]\n",
    "print(even)"
   ]
  },
  {
   "cell_type": "code",
   "execution_count": null,
   "id": "f6402c53-af34-4f04-aac3-b5fe93b5a8e9",
   "metadata": {},
   "outputs": [],
   "source": []
  }
 ],
 "metadata": {
  "kernelspec": {
   "display_name": "Python 3 (ipykernel)",
   "language": "python",
   "name": "python3"
  },
  "language_info": {
   "codemirror_mode": {
    "name": "ipython",
    "version": 3
   },
   "file_extension": ".py",
   "mimetype": "text/x-python",
   "name": "python",
   "nbconvert_exporter": "python",
   "pygments_lexer": "ipython3",
   "version": "3.12.2"
  }
 },
 "nbformat": 4,
 "nbformat_minor": 5
}
