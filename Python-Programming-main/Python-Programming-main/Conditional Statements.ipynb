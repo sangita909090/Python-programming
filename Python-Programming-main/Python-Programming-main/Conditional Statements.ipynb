{
 "cells": [
  {
   "cell_type": "code",
   "execution_count": 2,
   "id": "81038a36-b884-4379-8933-a17f9eae37b4",
   "metadata": {},
   "outputs": [
    {
     "name": "stdin",
     "output_type": "stream",
     "text": [
      "Enter a number -23\n"
     ]
    },
    {
     "name": "stdout",
     "output_type": "stream",
     "text": [
      "-12167 True\n"
     ]
    }
   ],
   "source": [
    "x = int(input(\"Enter a number\"))\n",
    "if x > 0:\n",
    "    print(x * x,True)\n",
    "else:\n",
    "    print(x * x * x,True)"
   ]
  },
  {
   "cell_type": "code",
   "execution_count": 7,
   "id": "06ea6f76-f3f2-4953-b2d7-c9e8a050cb90",
   "metadata": {},
   "outputs": [
    {
     "name": "stdout",
     "output_type": "stream",
     "text": [
      "i is between 15 and 20\n"
     ]
    }
   ],
   "source": [
    "i = 16\n",
    "if i < 15:\n",
    "    print(\"i is smaller than 15\")\n",
    "else:\n",
    "    if i>20:\n",
    "        print(\"i is greater\")\n",
    "    else:\n",
    "        print(\"i is between 15 and 20\")"
   ]
  },
  {
   "cell_type": "code",
   "execution_count": 6,
   "id": "f3bdebb0-82b2-496c-a60b-a2bca98affc9",
   "metadata": {},
   "outputs": [
    {
     "name": "stdin",
     "output_type": "stream",
     "text": [
      "Enter a Number 12\n"
     ]
    },
    {
     "name": "stdout",
     "output_type": "stream",
     "text": [
      "Number is divided by both\n"
     ]
    }
   ],
   "source": [
    "d = int(input(\"Enter a Number\"))\n",
    "\n",
    "if d%2 == 0 and d%3 == 0:\n",
    "    print(\"Number is divided by both\")\n",
    "else:\n",
    "    print(\"Number is not divisible by both\")"
   ]
  },
  {
   "cell_type": "code",
   "execution_count": 15,
   "id": "eb688748-9d64-4a31-b8c5-d30717075576",
   "metadata": {},
   "outputs": [
    {
     "name": "stdin",
     "output_type": "stream",
     "text": [
      "Enter a year:  2021\n"
     ]
    },
    {
     "name": "stdout",
     "output_type": "stream",
     "text": [
      "It's not a leap year\n"
     ]
    }
   ],
   "source": [
    "x = int(input(\"Enter a year: \"))\n",
    "\n",
    "if x % 400 == 0:\n",
    "    print(\"It's a leap year\")\n",
    "elif x % 100 == 0:\n",
    "    print(\"It's not a leap year\")\n",
    "elif x % 4 == 0:\n",
    "    print(\"It's a leap year\")\n",
    "else:\n",
    "    print(\"It's not a leap year\")"
   ]
  },
  {
   "cell_type": "markdown",
   "id": "e1ff118d-2083-42ed-95fb-5a4a16eab78f",
   "metadata": {},
   "source": [
    "---"
   ]
  },
  {
   "cell_type": "code",
   "execution_count": 22,
   "id": "184d3642-9118-4906-908f-d5bbf7096439",
   "metadata": {},
   "outputs": [
    {
     "name": "stdin",
     "output_type": "stream",
     "text": [
      "Enter a number of days 7\n"
     ]
    },
    {
     "name": "stdout",
     "output_type": "stream",
     "text": [
      "16\n"
     ]
    }
   ],
   "source": [
    "n = int(input(\"Enter a number of days\"))\n",
    "\n",
    "if n<=5:\n",
    "    print(n * 2)\n",
    "elif 6<=n<=10:\n",
    "    print((5*2) + (n-5)*3)\n",
    "elif 11<=n<=15:\n",
    "    print((5 * 2) + (5 * 3) + ((n-10)*4))\n",
    "else:\n",
    "    print((5 * 2) + (5 * 3) + (5 * 4) + ((n-15)*5))"
   ]
  },
  {
   "cell_type": "code",
   "execution_count": 31,
   "id": "c77b5cee-d71b-4b78-a456-6d858f7f22bf",
   "metadata": {},
   "outputs": [
    {
     "name": "stdin",
     "output_type": "stream",
     "text": [
      "Enter a number -12\n"
     ]
    },
    {
     "name": "stdout",
     "output_type": "stream",
     "text": [
      "NA\n"
     ]
    }
   ],
   "source": [
    "d = int(input(\"Enter a number\"))\n",
    "\n",
    "if d > 0:\n",
    "    if d%2 != 0:\n",
    "        print(\"WEIRD\")\n",
    "    elif d%2 == 0 and (d>=2 and d<=5):\n",
    "        print(\"Not weird\")\n",
    "    elif d%2 == 0 and (d>=6 and d<=20):\n",
    "        print(\"Not weird\")\n",
    "    elif d%2 == 0 and n>20:\n",
    "        print(\"Not weird\")\n",
    "else:\n",
    "    print(\"NA\")\n",
    "    "
   ]
  },
  {
   "cell_type": "code",
   "execution_count": null,
   "id": "33f79f45-c818-44b8-b6df-c940c80365cb",
   "metadata": {},
   "outputs": [],
   "source": []
  }
 ],
 "metadata": {
  "kernelspec": {
   "display_name": "Python 3 (ipykernel)",
   "language": "python",
   "name": "python3"
  },
  "language_info": {
   "codemirror_mode": {
    "name": "ipython",
    "version": 3
   },
   "file_extension": ".py",
   "mimetype": "text/x-python",
   "name": "python",
   "nbconvert_exporter": "python",
   "pygments_lexer": "ipython3",
   "version": "3.12.2"
  }
 },
 "nbformat": 4,
 "nbformat_minor": 5
}
