{
 "cells": [
  {
   "cell_type": "code",
   "execution_count": 1,
   "id": "1344d6df-1a01-4251-a1c6-52acad85a8bc",
   "metadata": {},
   "outputs": [
    {
     "name": "stdout",
     "output_type": "stream",
     "text": [
      "7 / 3 = 2.3333333333333335\n",
      "7 // 3 = 2\n",
      "7 % 3 = 1\n"
     ]
    }
   ],
   "source": [
    "a = 7\n",
    "b = 3\n",
    "\n",
    "# Floating-point division\n",
    "result_div = a / b\n",
    "print(f\"{a} / {b} = {result_div}\")  # Output: 2.3333333333333335\n",
    "\n",
    "# Floor division\n",
    "result_floordiv = a // b\n",
    "print(f\"{a} // {b} = {result_floordiv}\")  # Output: 2\n",
    "\n",
    "# Modulus (remainder)\n",
    "result_mod = a % b\n",
    "print(f\"{a} % {b} = {result_mod}\")  # Output: 1\n"
   ]
  },
  {
   "cell_type": "code",
   "execution_count": null,
   "id": "259d0258-7c85-4c70-9029-68d026d4d7f6",
   "metadata": {},
   "outputs": [],
   "source": []
  }
 ],
 "metadata": {
  "kernelspec": {
   "display_name": "Python 3 (ipykernel)",
   "language": "python",
   "name": "python3"
  },
  "language_info": {
   "codemirror_mode": {
    "name": "ipython",
    "version": 3
   },
   "file_extension": ".py",
   "mimetype": "text/x-python",
   "name": "python",
   "nbconvert_exporter": "python",
   "pygments_lexer": "ipython3",
   "version": "3.12.2"
  }
 },
 "nbformat": 4,
 "nbformat_minor": 5
}
