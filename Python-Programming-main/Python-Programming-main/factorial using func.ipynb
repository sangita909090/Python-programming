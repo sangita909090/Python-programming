{
 "cells": [
  {
   "cell_type": "code",
   "execution_count": 17,
   "id": "1455cd87-c170-4a80-b4f0-4c689cd7f5e0",
   "metadata": {},
   "outputs": [
    {
     "name": "stdout",
     "output_type": "stream",
     "text": [
      "720\n"
     ]
    }
   ],
   "source": [
    "def xyz(a):\n",
    "    factorial = 1\n",
    "    for i in range(1, a + 1):\n",
    "        factorial   = factorial * i\n",
    "    return factorial\n",
    "\n",
    "print(xyz(6))"
   ]
  },
  {
   "cell_type": "code",
   "execution_count": null,
   "id": "513696f1-8abf-4a6e-b14b-077bd795cd4d",
   "metadata": {},
   "outputs": [],
   "source": []
  }
 ],
 "metadata": {
  "kernelspec": {
   "display_name": "Python 3 (ipykernel)",
   "language": "python",
   "name": "python3"
  },
  "language_info": {
   "codemirror_mode": {
    "name": "ipython",
    "version": 3
   },
   "file_extension": ".py",
   "mimetype": "text/x-python",
   "name": "python",
   "nbconvert_exporter": "python",
   "pygments_lexer": "ipython3",
   "version": "3.12.2"
  }
 },
 "nbformat": 4,
 "nbformat_minor": 5
}
