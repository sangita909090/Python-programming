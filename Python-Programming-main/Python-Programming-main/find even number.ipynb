{
 "cells": [
  {
   "cell_type": "code",
   "execution_count": 9,
   "id": "07ebe4de-d0a2-4578-9572-31e2eb21b962",
   "metadata": {},
   "outputs": [
    {
     "name": "stdin",
     "output_type": "stream",
     "text": [
      "Enter a list of numbers separated by commas:  28,56,72,55,0,101\n"
     ]
    },
    {
     "name": "stdout",
     "output_type": "stream",
     "text": [
      "List of even numbers: [28, 56, 72, 0]\n"
     ]
    }
   ],
   "source": [
    "x = input(\"Enter a list of numbers separated by commas: \")\n",
    "\n",
    "\n",
    "y = [int(num) for num in x.split(\",\")]\n",
    "\n",
    "\n",
    "even_numbers = []\n",
    "\n",
    "\n",
    "for num in y:\n",
    "    if num % 2 == 0:\n",
    "        even_numbers.append(num)\n",
    "\n",
    "if even_numbers:\n",
    "    print(\"List of even numbers:\", even_numbers)\n",
    "else:\n",
    "    print(\"No even number is present in the list.\")\n"
   ]
  },
  {
   "cell_type": "code",
   "execution_count": null,
   "id": "5e8cd6c6-220c-4f3a-8804-307c45f4efda",
   "metadata": {},
   "outputs": [],
   "source": []
  }
 ],
 "metadata": {
  "kernelspec": {
   "display_name": "Python 3 (ipykernel)",
   "language": "python",
   "name": "python3"
  },
  "language_info": {
   "codemirror_mode": {
    "name": "ipython",
    "version": 3
   },
   "file_extension": ".py",
   "mimetype": "text/x-python",
   "name": "python",
   "nbconvert_exporter": "python",
   "pygments_lexer": "ipython3",
   "version": "3.12.2"
  }
 },
 "nbformat": 4,
 "nbformat_minor": 5
}
