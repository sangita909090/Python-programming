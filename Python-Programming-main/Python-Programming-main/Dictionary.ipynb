{
 "cells": [
  {
   "cell_type": "code",
   "execution_count": 1,
   "id": "a088b171-611f-4f0b-b278-2bc7bcff5433",
   "metadata": {},
   "outputs": [],
   "source": [
    "dict1 = {\n",
    "    1 : \"Monday\",\n",
    "    2 : \"Tuesday\",\n",
    "    3 : \"Wednesday\"\n",
    "}"
   ]
  },
  {
   "cell_type": "code",
   "execution_count": 2,
   "id": "065e344c-ea03-4aee-a945-0fc75d4e3653",
   "metadata": {},
   "outputs": [
    {
     "data": {
      "text/plain": [
       "{1: 'Monday', 2: 'Tuesday', 3: 'Wednesday'}"
      ]
     },
     "execution_count": 2,
     "metadata": {},
     "output_type": "execute_result"
    }
   ],
   "source": [
    "dict1"
   ]
  },
  {
   "cell_type": "code",
   "execution_count": 3,
   "id": "03aad581-a278-4977-92c6-bb0750ca9840",
   "metadata": {},
   "outputs": [
    {
     "name": "stdout",
     "output_type": "stream",
     "text": [
      "Monday\n",
      "Tuesday\n",
      "Wednesday\n"
     ]
    }
   ],
   "source": [
    "for i in dict1.values():\n",
    "    print(i)"
   ]
  },
  {
   "cell_type": "code",
   "execution_count": 4,
   "id": "2a4d32e2-a598-4ec0-b6ba-c003f9ce13be",
   "metadata": {},
   "outputs": [
    {
     "name": "stdout",
     "output_type": "stream",
     "text": [
      "1 Monday\n",
      "2 Tuesday\n",
      "3 Wednesday\n"
     ]
    }
   ],
   "source": [
    "for i,j in dict1.items():\n",
    "    print(i,j)"
   ]
  },
  {
   "cell_type": "code",
   "execution_count": 5,
   "id": "63b2a604-2d3b-4059-9d87-9fa19f8c7cd3",
   "metadata": {},
   "outputs": [],
   "source": [
    "dict2 = {\n",
    "    1 : (2,4,5),\n",
    "    \"Name\" : \"Face\",\n",
    "    3 : [5,7]\n",
    "}"
   ]
  },
  {
   "cell_type": "code",
   "execution_count": 6,
   "id": "f075bf0b-4755-43ff-9c9a-3acf208fc0e3",
   "metadata": {},
   "outputs": [
    {
     "name": "stdout",
     "output_type": "stream",
     "text": [
      "1 (2, 4, 5)\n",
      "Name Face\n",
      "3 [5, 7]\n"
     ]
    }
   ],
   "source": [
    "for i,j in dict2.items():\n",
    "    print(i,j)"
   ]
  },
  {
   "cell_type": "code",
   "execution_count": 10,
   "id": "0b130829-e293-48be-a6d4-d2e98345cfa5",
   "metadata": {},
   "outputs": [],
   "source": [
    "myfamily = {\n",
    "    1: \"Akbar\",\n",
    "  \"child1\" : {\n",
    "    \"name\" : \"Emil\",\n",
    "    \"year\" : 2004\n",
    "  },\n",
    "  \"child2\" : {\n",
    "    \"name\" : \"Tobias\",\n",
    "    \"year\" : 2007\n",
    "  },\n",
    "  \"child3\" : {\n",
    "    \"name\" : \"Linus\",\n",
    "    \"year\" : 2011\n",
    "  }\n",
    "}"
   ]
  },
  {
   "cell_type": "code",
   "execution_count": 11,
   "id": "6310ff40-3983-41c6-8727-2f7f2c8d100e",
   "metadata": {},
   "outputs": [
    {
     "name": "stdout",
     "output_type": "stream",
     "text": [
      "1 Akbar\n",
      "child1 {'name': 'Emil', 'year': 2004}\n",
      "child2 {'name': 'Tobias', 'year': 2007}\n",
      "child3 {'name': 'Linus', 'year': 2011}\n"
     ]
    }
   ],
   "source": [
    "for i,j in myfamily.items():\n",
    "    print(i,j)"
   ]
  },
  {
   "cell_type": "code",
   "execution_count": null,
   "id": "811c87bb-cacb-4598-aced-99cbbeef6896",
   "metadata": {},
   "outputs": [],
   "source": []
  }
 ],
 "metadata": {
  "kernelspec": {
   "display_name": "Python 3 (ipykernel)",
   "language": "python",
   "name": "python3"
  },
  "language_info": {
   "codemirror_mode": {
    "name": "ipython",
    "version": 3
   },
   "file_extension": ".py",
   "mimetype": "text/x-python",
   "name": "python",
   "nbconvert_exporter": "python",
   "pygments_lexer": "ipython3",
   "version": "3.12.2"
  }
 },
 "nbformat": 4,
 "nbformat_minor": 5
}
