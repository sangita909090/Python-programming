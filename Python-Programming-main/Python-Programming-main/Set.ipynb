{
 "cells": [
  {
   "cell_type": "code",
   "execution_count": 1,
   "id": "6313dfe4-2005-4502-b21e-cbbd9a7a152c",
   "metadata": {},
   "outputs": [
    {
     "name": "stdout",
     "output_type": "stream",
     "text": [
      "32\n",
      "1\n",
      "2\n",
      "34\n",
      "range\n"
     ]
    }
   ],
   "source": [
    "value = {1,2,34,'range',32}\n",
    "for i in value:\n",
    "    print(i)\n",
    "    # if i == 2:\n",
    "    #     print(i)"
   ]
  },
  {
   "cell_type": "code",
   "execution_count": 2,
   "id": "da24be81-7b9e-433c-9401-a91bc1e2019c",
   "metadata": {},
   "outputs": [
    {
     "name": "stdout",
     "output_type": "stream",
     "text": [
      "7\n",
      "{'apple', 1, 2, 3, 'banana', 'python', 'mango'}\n"
     ]
    }
   ],
   "source": [
    "my_set = {1, 2, 3, 'python'}\n",
    "my_set.add('apple')\n",
    "my_set.update(['mango','banana'])\n",
    "my_set.discard('6')\n",
    "\n",
    "\n",
    "print(len(my_set))\n",
    "print(my_set)"
   ]
  },
  {
   "cell_type": "code",
   "execution_count": 3,
   "id": "5e470ba1-b07b-4222-8a3b-0d7b5b001ef9",
   "metadata": {},
   "outputs": [],
   "source": [
    "value = {31421,242,421,1,2,3,45,65,869,7643,2}"
   ]
  },
  {
   "cell_type": "code",
   "execution_count": 4,
   "id": "dd190194-850a-48ec-bf44-2f5caa5b1b73",
   "metadata": {},
   "outputs": [
    {
     "data": {
      "text/plain": [
       "{1, 2, 3, 45, 65, 242, 421, 869, 7643, 31421}"
      ]
     },
     "execution_count": 4,
     "metadata": {},
     "output_type": "execute_result"
    }
   ],
   "source": [
    "value"
   ]
  },
  {
   "cell_type": "code",
   "execution_count": 5,
   "id": "8bb9e971-b99c-4eb6-87b7-b6a4c98a774f",
   "metadata": {},
   "outputs": [
    {
     "name": "stdin",
     "output_type": "stream",
     "text": [
      " 4\n",
      " 12\n",
      " 23\n",
      " 45\n",
      " 121\n"
     ]
    },
    {
     "name": "stdout",
     "output_type": "stream",
     "text": [
      "{121, 12, 45, 23}\n"
     ]
    }
   ],
   "source": [
    "value_set = set()\n",
    "n = int(input())\n",
    "for i in range(n):\n",
    "    value_set.add(int(input()))\n",
    "\n",
    "print(value_set)"
   ]
  },
  {
   "cell_type": "code",
   "execution_count": 7,
   "id": "629f0151-3f5d-4e28-856a-732ca1823555",
   "metadata": {},
   "outputs": [
    {
     "name": "stdin",
     "output_type": "stream",
     "text": [
      " 26\n"
     ]
    },
    {
     "name": "stdout",
     "output_type": "stream",
     "text": [
      "Element is present\n"
     ]
    }
   ],
   "source": [
    "value1 = {6,12,26,10}\n",
    "\n",
    "x = int(input())\n",
    "\n",
    "if x in value1:\n",
    "    print(\"Element is present\")\n",
    "else:\n",
    "    print(\"Element is not present\")"
   ]
  },
  {
   "cell_type": "code",
   "execution_count": 14,
   "id": "eca9e07a-0b7c-4051-86c1-bbf568c6ff5a",
   "metadata": {},
   "outputs": [
    {
     "name": "stdout",
     "output_type": "stream",
     "text": [
      "union :  {'1', '5', '3', 12, 45, '7', '4', '2'}\n",
      "Intersection :  {'4', 12, '3'}\n"
     ]
    }
   ],
   "source": [
    "set1 = {\"1\",\"2\",\"3\",\"4\",45,12}\n",
    "set2 = {'5','3','7','4',12}\n",
    "\n",
    "set3 = set1.union(set2)\n",
    "print(\"union : \",set3)\n",
    "set4 = set1.intersection(set2)\n",
    "print(\"Intersection : \",set4)"
   ]
  },
  {
   "cell_type": "code",
   "execution_count": 15,
   "id": "305dfa5d-580e-4990-af65-178ad963c9e1",
   "metadata": {},
   "outputs": [
    {
     "name": "stdout",
     "output_type": "stream",
     "text": [
      "{'1', '2', 45}\n",
      "{'5', '7'}\n"
     ]
    }
   ],
   "source": [
    "print(set1 - set2)\n",
    "print(set2 - set1)"
   ]
  },
  {
   "cell_type": "code",
   "execution_count": 2,
   "id": "714bcd4e-390c-44ae-a47d-9022986b3f6b",
   "metadata": {},
   "outputs": [
    {
     "name": "stdout",
     "output_type": "stream",
     "text": [
      "True\n",
      "False\n",
      "False\n"
     ]
    }
   ],
   "source": [
    "month1 = {\"jan\",\"feb\",\"Dec\",\"Mar\"}\n",
    "month2 = {\"jan\",\"feb\"}\n",
    "\n",
    "print(month1 > month2)\n",
    "print(month1 < month2)\n",
    "print(month1 == month2)"
   ]
  },
  {
   "cell_type": "code",
   "execution_count": 3,
   "id": "7debea91-94a5-435b-af55-dd91f43750f9",
   "metadata": {},
   "outputs": [
    {
     "ename": "TypeError",
     "evalue": "'frozenset' object does not support item assignment",
     "output_type": "error",
     "traceback": [
      "\u001b[1;31m---------------------------------------------------------------------------\u001b[0m",
      "\u001b[1;31mTypeError\u001b[0m                                 Traceback (most recent call last)",
      "Cell \u001b[1;32mIn[3], line 3\u001b[0m\n\u001b[0;32m      1\u001b[0m mylist \u001b[38;5;241m=\u001b[39m [\u001b[38;5;124m'\u001b[39m\u001b[38;5;124mapple\u001b[39m\u001b[38;5;124m'\u001b[39m, \u001b[38;5;124m'\u001b[39m\u001b[38;5;124mbanana\u001b[39m\u001b[38;5;124m'\u001b[39m, \u001b[38;5;124m'\u001b[39m\u001b[38;5;124mcherry\u001b[39m\u001b[38;5;124m'\u001b[39m]\n\u001b[0;32m      2\u001b[0m x \u001b[38;5;241m=\u001b[39m \u001b[38;5;28mfrozenset\u001b[39m(mylist)\n\u001b[1;32m----> 3\u001b[0m \u001b[43mx\u001b[49m\u001b[43m[\u001b[49m\u001b[38;5;241;43m1\u001b[39;49m\u001b[43m]\u001b[49m \u001b[38;5;241m=\u001b[39m \u001b[38;5;124m\"\u001b[39m\u001b[38;5;124mstrawberry\u001b[39m\u001b[38;5;124m\"\u001b[39m\n",
      "\u001b[1;31mTypeError\u001b[0m: 'frozenset' object does not support item assignment"
     ]
    }
   ],
   "source": [
    "mylist = ['apple', 'banana', 'cherry']\n",
    "x = frozenset(mylist)\n",
    "x[1] = \"strawberry\""
   ]
  },
  {
   "cell_type": "code",
   "execution_count": null,
   "id": "cd209b10-8f5e-4e64-b499-bc87764e3094",
   "metadata": {},
   "outputs": [],
   "source": []
  }
 ],
 "metadata": {
  "kernelspec": {
   "display_name": "Python 3 (ipykernel)",
   "language": "python",
   "name": "python3"
  },
  "language_info": {
   "codemirror_mode": {
    "name": "ipython",
    "version": 3
   },
   "file_extension": ".py",
   "mimetype": "text/x-python",
   "name": "python",
   "nbconvert_exporter": "python",
   "pygments_lexer": "ipython3",
   "version": "3.12.2"
  }
 },
 "nbformat": 4,
 "nbformat_minor": 5
}
