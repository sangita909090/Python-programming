{
 "cells": [
  {
   "cell_type": "code",
   "execution_count": 7,
   "id": "03ebad04-8e60-407f-9122-1aee64f0ea62",
   "metadata": {},
   "outputs": [
    {
     "name": "stdin",
     "output_type": "stream",
     "text": [
      "Enter a number:  29\n"
     ]
    },
    {
     "name": "stdout",
     "output_type": "stream",
     "text": [
      "special\n"
     ]
    }
   ],
   "source": [
    "x = int(input(\"Enter a number: \"))\n",
    "z = int(input(\"Enter a number: \"))\n",
    "\n",
    "def spc_num(x,z):\n",
    "    y = str(x)\n",
    "    y.split()\n",
    "    a = int(y[0]) + int(y[1])\n",
    "    b = int(y[0]) * int(y[1])\n",
    "    c = a + b\n",
    "    if c == x:\n",
    "        print(\"special\")\n",
    "    else:\n",
    "        print(\"Not\")\n",
    "    \n",
    "spc_num(x)    "
   ]
  },
  {
   "cell_type": "code",
   "execution_count": 9,
   "id": "d3ea8967-e378-462c-a5f3-a1993fec2b91",
   "metadata": {},
   "outputs": [
    {
     "name": "stdin",
     "output_type": "stream",
     "text": [
      "Enter the start of the range:  10\n",
      "Enter the end of the range:  100\n"
     ]
    },
    {
     "name": "stdout",
     "output_type": "stream",
     "text": [
      "10 is not special\n",
      "11 is not special\n",
      "12 is not special\n",
      "13 is not special\n",
      "14 is not special\n",
      "15 is not special\n",
      "16 is not special\n",
      "17 is not special\n",
      "18 is not special\n",
      "19 is special\n",
      "20 is not special\n",
      "21 is not special\n",
      "22 is not special\n",
      "23 is not special\n",
      "24 is not special\n",
      "25 is not special\n",
      "26 is not special\n",
      "27 is not special\n",
      "28 is not special\n",
      "29 is special\n",
      "30 is not special\n",
      "31 is not special\n",
      "32 is not special\n",
      "33 is not special\n",
      "34 is not special\n",
      "35 is not special\n",
      "36 is not special\n",
      "37 is not special\n",
      "38 is not special\n",
      "39 is special\n",
      "40 is not special\n",
      "41 is not special\n",
      "42 is not special\n",
      "43 is not special\n",
      "44 is not special\n",
      "45 is not special\n",
      "46 is not special\n",
      "47 is not special\n",
      "48 is not special\n",
      "49 is special\n",
      "50 is not special\n",
      "51 is not special\n",
      "52 is not special\n",
      "53 is not special\n",
      "54 is not special\n",
      "55 is not special\n",
      "56 is not special\n",
      "57 is not special\n",
      "58 is not special\n",
      "59 is special\n",
      "60 is not special\n",
      "61 is not special\n",
      "62 is not special\n",
      "63 is not special\n",
      "64 is not special\n",
      "65 is not special\n",
      "66 is not special\n",
      "67 is not special\n",
      "68 is not special\n",
      "69 is special\n",
      "70 is not special\n",
      "71 is not special\n",
      "72 is not special\n",
      "73 is not special\n",
      "74 is not special\n",
      "75 is not special\n",
      "76 is not special\n",
      "77 is not special\n",
      "78 is not special\n",
      "79 is special\n",
      "80 is not special\n",
      "81 is not special\n",
      "82 is not special\n",
      "83 is not special\n",
      "84 is not special\n",
      "85 is not special\n",
      "86 is not special\n",
      "87 is not special\n",
      "88 is not special\n",
      "89 is special\n",
      "90 is not special\n",
      "91 is not special\n",
      "92 is not special\n",
      "93 is not special\n",
      "94 is not special\n",
      "95 is not special\n",
      "96 is not special\n",
      "97 is not special\n",
      "98 is not special\n",
      "99 is special\n"
     ]
    }
   ],
   "source": [
    "def spc_num_range(start, end):\n",
    "    for x in range(start, end + 1):  \n",
    "        y = str(x)\n",
    "        if len(y) != 2:  \n",
    "            continue\n",
    "        a = int(y[0]) + int(y[1])\n",
    "        b = int(y[0]) * int(y[1])\n",
    "        c = a + b\n",
    "        if c == x:\n",
    "            print(f\"{x} is special\")\n",
    "        else:\n",
    "            print(f\"{x} is not special\")\n",
    "\n",
    "start = int(input(\"Enter the start of the range: \"))\n",
    "end = int(input(\"Enter the end of the range: \"))\n",
    "\n",
    "spc_num_range(start, end)"
   ]
  },
  {
   "cell_type": "code",
   "execution_count": null,
   "id": "f67646e2-1eb6-4aa5-bbe6-84974303a73c",
   "metadata": {},
   "outputs": [],
   "source": []
  }
 ],
 "metadata": {
  "kernelspec": {
   "display_name": "Python 3 (ipykernel)",
   "language": "python",
   "name": "python3"
  },
  "language_info": {
   "codemirror_mode": {
    "name": "ipython",
    "version": 3
   },
   "file_extension": ".py",
   "mimetype": "text/x-python",
   "name": "python",
   "nbconvert_exporter": "python",
   "pygments_lexer": "ipython3",
   "version": "3.12.2"
  }
 },
 "nbformat": 4,
 "nbformat_minor": 5
}
