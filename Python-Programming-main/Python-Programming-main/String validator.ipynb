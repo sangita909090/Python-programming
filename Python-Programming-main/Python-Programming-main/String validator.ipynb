{
 "cells": [
  {
   "cell_type": "code",
   "execution_count": 1,
   "id": "e96e7ab0-0384-4eb9-8670-eac3286cdcee",
   "metadata": {},
   "outputs": [
    {
     "name": "stdin",
     "output_type": "stream",
     "text": [
      " cdA12\n"
     ]
    },
    {
     "name": "stdout",
     "output_type": "stream",
     "text": [
      "True\n",
      "True\n",
      "True\n",
      "True\n",
      "True\n"
     ]
    }
   ],
   "source": [
    "if __name__ == '__main__':\n",
    "    s = input()\n",
    "    \n",
    "\n",
    "has_alnum = any(c.isalnum() for c in s)\n",
    "has_alpha = any(c.isalpha() for c in s)\n",
    "has_digit = any(c.isdigit() for c in s)\n",
    "has_lower = any(c.islower() for c in s)\n",
    "has_upper = any(c.isupper() for c in s)\n",
    "\n",
    "# Output the results\n",
    "print(has_alnum)\n",
    "print(has_alpha)\n",
    "print(has_digit)\n",
    "print(has_lower)\n",
    "print(has_upper)\n"
   ]
  },
  {
   "cell_type": "code",
   "execution_count": null,
   "id": "488aca41-9ee9-4f95-a380-5150a291e03f",
   "metadata": {},
   "outputs": [],
   "source": []
  }
 ],
 "metadata": {
  "kernelspec": {
   "display_name": "Python 3 (ipykernel)",
   "language": "python",
   "name": "python3"
  },
  "language_info": {
   "codemirror_mode": {
    "name": "ipython",
    "version": 3
   },
   "file_extension": ".py",
   "mimetype": "text/x-python",
   "name": "python",
   "nbconvert_exporter": "python",
   "pygments_lexer": "ipython3",
   "version": "3.12.2"
  }
 },
 "nbformat": 4,
 "nbformat_minor": 5
}
