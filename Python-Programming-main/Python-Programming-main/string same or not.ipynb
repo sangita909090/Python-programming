{
 "cells": [
  {
   "cell_type": "code",
   "execution_count": 4,
   "id": "c759d287-a4aa-4c8d-88bd-66e5c3ea3a6b",
   "metadata": {},
   "outputs": [
    {
     "name": "stdin",
     "output_type": "stream",
     "text": [
      "Enter a string bvhsdjsck\n",
      "Enter a string cndjvbn\n"
     ]
    },
    {
     "name": "stdout",
     "output_type": "stream",
     "text": [
      "Not same\n"
     ]
    }
   ],
   "source": [
    "x = input(\"Enter a string\")\n",
    "y = input(\"Enter a string\")\n",
    "\n",
    "if x == y:\n",
    "    print(\"Same\")\n",
    "else:\n",
    "    print(\"Not same\")"
   ]
  },
  {
   "cell_type": "code",
   "execution_count": null,
   "id": "df3c62b7-4efb-4235-8537-16c7d6fa19fb",
   "metadata": {},
   "outputs": [],
   "source": []
  }
 ],
 "metadata": {
  "kernelspec": {
   "display_name": "Python 3 (ipykernel)",
   "language": "python",
   "name": "python3"
  },
  "language_info": {
   "codemirror_mode": {
    "name": "ipython",
    "version": 3
   },
   "file_extension": ".py",
   "mimetype": "text/x-python",
   "name": "python",
   "nbconvert_exporter": "python",
   "pygments_lexer": "ipython3",
   "version": "3.12.2"
  }
 },
 "nbformat": 4,
 "nbformat_minor": 5
}
