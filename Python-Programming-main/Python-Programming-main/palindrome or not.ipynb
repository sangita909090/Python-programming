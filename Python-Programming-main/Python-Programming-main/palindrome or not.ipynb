{
 "cells": [
  {
   "cell_type": "code",
   "execution_count": 9,
   "id": "09a87766-75a4-4476-8541-0b797a5fb84e",
   "metadata": {},
   "outputs": [
    {
     "name": "stdin",
     "output_type": "stream",
     "text": [
      "Enter a string:  Mom\n"
     ]
    },
    {
     "name": "stdout",
     "output_type": "stream",
     "text": [
      "moM\n",
      "Its not a palindrom\n"
     ]
    }
   ],
   "source": [
    "x = input(\"Enter a string: \")\n",
    "rev = \"\"\n",
    "for i in x:\n",
    "    rev = i + rev\n",
    "print(rev) \n",
    "\n",
    "if x == rev:\n",
    "    print(\"Its palindrom\")\n",
    "else:\n",
    "    print(\"Its not a palindrom\")"
   ]
  },
  {
   "cell_type": "code",
   "execution_count": null,
   "id": "11da612c-1445-4e8e-938b-6e5ccdd973aa",
   "metadata": {},
   "outputs": [],
   "source": []
  }
 ],
 "metadata": {
  "kernelspec": {
   "display_name": "Python 3 (ipykernel)",
   "language": "python",
   "name": "python3"
  },
  "language_info": {
   "codemirror_mode": {
    "name": "ipython",
    "version": 3
   },
   "file_extension": ".py",
   "mimetype": "text/x-python",
   "name": "python",
   "nbconvert_exporter": "python",
   "pygments_lexer": "ipython3",
   "version": "3.12.2"
  }
 },
 "nbformat": 4,
 "nbformat_minor": 5
}
