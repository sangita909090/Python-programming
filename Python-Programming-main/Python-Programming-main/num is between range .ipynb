{
 "cells": [
  {
   "cell_type": "code",
   "execution_count": 18,
   "id": "92fbeac0-3fc1-4bbd-ae5f-7f29be9bfbbb",
   "metadata": {},
   "outputs": [
    {
     "name": "stdin",
     "output_type": "stream",
     "text": [
      "Enter the number N:  5\n",
      "Enter the number L:  3\n",
      "Enter the number R:  9\n"
     ]
    },
    {
     "name": "stdout",
     "output_type": "stream",
     "text": [
      "Yes\n"
     ]
    }
   ],
   "source": [
    "N = int(input(\"Enter the number N: \"))\n",
    "L = int(input(\"Enter the number L: \"))\n",
    "R = int(input(\"Enter the number R: \"))\n",
    "\n",
    "if (L <= N <= R) or (L >= N >= R):\n",
    "    print(\"Yes\")\n",
    "else:\n",
    "    print(\"No\")"
   ]
  },
  {
   "cell_type": "code",
   "execution_count": null,
   "id": "1ee73ec9-00ce-48c3-886f-be3bc8871a20",
   "metadata": {},
   "outputs": [],
   "source": []
  }
 ],
 "metadata": {
  "kernelspec": {
   "display_name": "Python 3 (ipykernel)",
   "language": "python",
   "name": "python3"
  },
  "language_info": {
   "codemirror_mode": {
    "name": "ipython",
    "version": 3
   },
   "file_extension": ".py",
   "mimetype": "text/x-python",
   "name": "python",
   "nbconvert_exporter": "python",
   "pygments_lexer": "ipython3",
   "version": "3.12.2"
  }
 },
 "nbformat": 4,
 "nbformat_minor": 5
}
