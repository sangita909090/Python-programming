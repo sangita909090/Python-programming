{
 "cells": [
  {
   "cell_type": "code",
   "execution_count": 7,
   "id": "2d2398e2-cea8-4dca-87da-0c100f262f5d",
   "metadata": {},
   "outputs": [
    {
     "name": "stdin",
     "output_type": "stream",
     "text": [
      "Enter a number 5\n",
      "Enter a number 5\n",
      "Enter a number 5\n"
     ]
    },
    {
     "name": "stdout",
     "output_type": "stream",
     "text": [
      "(15.0, 125.0)\n",
      "(15.0, 125.0)\n",
      "(15.0, 125.0)\n"
     ]
    }
   ],
   "source": [
    "x = int(input(\"Enter a number\"))\n",
    "y = float(input(\"Enter a number\"))\n",
    "z = int(input(\"Enter a number\"))\n",
    "\n",
    "def sumpro(x,y,z):\n",
    "    a = x + y + z\n",
    "    b = x * y * z\n",
    "    return a,b\n",
    "\n",
    "def sumpro1(x,y,z):\n",
    "    return x + y + z,x * y * z\n",
    "\n",
    "sumpro2 = lambda x, y, z: (x + y + z, x * y * z)\n",
    "\n",
    "print(sumpro(x,y,z))\n",
    "print(sumpro1(x,y,z))\n",
    "print(sumpro2(x,y,z))"
   ]
  },
  {
   "cell_type": "code",
   "execution_count": null,
   "id": "e7a32b9b-1088-4119-8f3f-4ed1d6b9f498",
   "metadata": {},
   "outputs": [],
   "source": []
  }
 ],
 "metadata": {
  "kernelspec": {
   "display_name": "Python 3 (ipykernel)",
   "language": "python",
   "name": "python3"
  },
  "language_info": {
   "codemirror_mode": {
    "name": "ipython",
    "version": 3
   },
   "file_extension": ".py",
   "mimetype": "text/x-python",
   "name": "python",
   "nbconvert_exporter": "python",
   "pygments_lexer": "ipython3",
   "version": "3.12.2"
  }
 },
 "nbformat": 4,
 "nbformat_minor": 5
}
