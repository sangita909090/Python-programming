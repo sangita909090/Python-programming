{
 "cells": [
  {
   "cell_type": "code",
   "execution_count": 4,
   "id": "fc4ac5d1-f726-45bc-a5e5-64adce8bdbdf",
   "metadata": {},
   "outputs": [
    {
     "name": "stdin",
     "output_type": "stream",
     "text": [
      "Enter a number 1\n",
      "Enter a number 677\n",
      "Enter a number 3557\n"
     ]
    },
    {
     "name": "stdout",
     "output_type": "stream",
     "text": [
      "3557 is greater\n",
      "(1, 677, 3557)\n"
     ]
    }
   ],
   "source": [
    "x = int(input(\"Enter a number\"))\n",
    "y = int(input(\"Enter a number\"))\n",
    "z = int(input(\"Enter a number\"))\n",
    "\n",
    "def maxnum(x,y,z):\n",
    "    if x > y:\n",
    "        print(f\"{x} is greater\")\n",
    "    elif y > z:\n",
    "        print(f\"{y} is greater\")\n",
    "    elif z > x:\n",
    "        print(f\"{z} is greater\")\n",
    "    return x,y,z\n",
    "print(maxnum(x,y,z))"
   ]
  },
  {
   "cell_type": "code",
   "execution_count": 5,
   "id": "1e59a07d-eff3-4a44-a33c-f101a846be9b",
   "metadata": {},
   "outputs": [
    {
     "name": "stdin",
     "output_type": "stream",
     "text": [
      "Enter a number:  4\n",
      "Enter a number:  632\n",
      "Enter a number:  754\n"
     ]
    },
    {
     "name": "stdout",
     "output_type": "stream",
     "text": [
      "754 is greater\n",
      "(4, 632, 754)\n"
     ]
    }
   ],
   "source": [
    "x = int(input(\"Enter a number: \"))\n",
    "y = int(input(\"Enter a number: \"))\n",
    "z = int(input(\"Enter a number: \"))\n",
    "\n",
    "def maxnum(x, y, z):\n",
    "    max_val = x if (x > y and x > z) else (y if y > z else z)\n",
    "    print(f\"{max_val} is greater\")\n",
    "    return x, y, z\n",
    "\n",
    "print(maxnum(x, y, z))\n"
   ]
  },
  {
   "cell_type": "code",
   "execution_count": null,
   "id": "5af1a00d-d624-4272-8bf1-5b7ecc223383",
   "metadata": {},
   "outputs": [],
   "source": []
  }
 ],
 "metadata": {
  "kernelspec": {
   "display_name": "Python 3 (ipykernel)",
   "language": "python",
   "name": "python3"
  },
  "language_info": {
   "codemirror_mode": {
    "name": "ipython",
    "version": 3
   },
   "file_extension": ".py",
   "mimetype": "text/x-python",
   "name": "python",
   "nbconvert_exporter": "python",
   "pygments_lexer": "ipython3",
   "version": "3.12.2"
  }
 },
 "nbformat": 4,
 "nbformat_minor": 5
}
