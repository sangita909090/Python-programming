{
 "cells": [
  {
   "cell_type": "code",
   "execution_count": 4,
   "id": "8cb5bfa3-8b72-4026-9fa2-a24b42a764e8",
   "metadata": {},
   "outputs": [
    {
     "name": "stdout",
     "output_type": "stream",
     "text": [
      "Inside 30\n",
      "Outside 0\n"
     ]
    }
   ],
   "source": [
    "total = 0\n",
    "def sum(arg1, arg2):\n",
    "    total = arg1 + arg2\n",
    "    print(\"Inside\", total)\n",
    "    return total\n",
    "sum(10,20)\n",
    "print(\"Outside\",total)"
   ]
  },
  {
   "cell_type": "code",
   "execution_count": null,
   "id": "ef9289da-7f97-4bcd-8c36-ab7e43d3687d",
   "metadata": {},
   "outputs": [],
   "source": []
  }
 ],
 "metadata": {
  "kernelspec": {
   "display_name": "Python 3 (ipykernel)",
   "language": "python",
   "name": "python3"
  },
  "language_info": {
   "codemirror_mode": {
    "name": "ipython",
    "version": 3
   },
   "file_extension": ".py",
   "mimetype": "text/x-python",
   "name": "python",
   "nbconvert_exporter": "python",
   "pygments_lexer": "ipython3",
   "version": "3.12.2"
  }
 },
 "nbformat": 4,
 "nbformat_minor": 5
}
