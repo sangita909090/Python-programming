{
 "cells": [
  {
   "cell_type": "code",
   "execution_count": 1,
   "id": "011f6280-fd52-4662-bef9-7a8cf1865b73",
   "metadata": {},
   "outputs": [
    {
     "name": "stdout",
     "output_type": "stream",
     "text": [
      "1\n",
      "2\n",
      "3\n",
      "Loop Breaks\n"
     ]
    }
   ],
   "source": [
    "for i in range(1,6):\n",
    "    if(i==4):\n",
    "        print(\"Loop Breaks\")\n",
    "        break\n",
    "    print(i)"
   ]
  },
  {
   "cell_type": "code",
   "execution_count": 2,
   "id": "51cafa04-7bdc-43bb-ae87-d6ddede05b20",
   "metadata": {},
   "outputs": [
    {
     "name": "stdout",
     "output_type": "stream",
     "text": [
      "1\n",
      "2\n",
      "3\n",
      "Loop Breaks\n",
      "4\n",
      "5\n"
     ]
    }
   ],
   "source": [
    "for i in range(1,6):\n",
    "    if(i==4):\n",
    "        print(\"Loop Breaks\")\n",
    "    print(i)"
   ]
  },
  {
   "cell_type": "code",
   "execution_count": 3,
   "id": "ad6c9795-79b5-4f10-a865-1319190bb014",
   "metadata": {},
   "outputs": [
    {
     "name": "stdout",
     "output_type": "stream",
     "text": [
      "1 1 loopbreaks\n",
      "\n",
      "2 2 loopbreaks\n",
      "\n",
      "3 3 loopbreaks\n",
      "\n",
      "4 4 loopbreaks\n",
      "\n",
      "5 5 loopbreaks\n",
      "\n"
     ]
    }
   ],
   "source": [
    "for i in range(1,6):\n",
    "    for j in range(1,4):\n",
    "        if(j==3):\n",
    "            print(\"loopbreaks\")\n",
    "            break\n",
    "        print(i,end=\" \")\n",
    "    print()"
   ]
  },
  {
   "cell_type": "code",
   "execution_count": 4,
   "id": "f3c8ddd4-9798-4528-8528-2fa82c444d2f",
   "metadata": {},
   "outputs": [
    {
     "name": "stdout",
     "output_type": "stream",
     "text": [
      "111\n",
      "222\n",
      "Loop break\n"
     ]
    }
   ],
   "source": [
    "for i in range(1,6):\n",
    "    if(i==3):\n",
    "        print(\"Loop break\")\n",
    "        break\n",
    "    for j in range(1,4):\n",
    "        print(i,end='')\n",
    "    print()"
   ]
  },
  {
   "cell_type": "code",
   "execution_count": null,
   "id": "029c1015-61b1-4705-bba7-48f2f50e0dae",
   "metadata": {},
   "outputs": [],
   "source": []
  }
 ],
 "metadata": {
  "kernelspec": {
   "display_name": "Python 3 (ipykernel)",
   "language": "python",
   "name": "python3"
  },
  "language_info": {
   "codemirror_mode": {
    "name": "ipython",
    "version": 3
   },
   "file_extension": ".py",
   "mimetype": "text/x-python",
   "name": "python",
   "nbconvert_exporter": "python",
   "pygments_lexer": "ipython3",
   "version": "3.12.2"
  }
 },
 "nbformat": 4,
 "nbformat_minor": 5
}
