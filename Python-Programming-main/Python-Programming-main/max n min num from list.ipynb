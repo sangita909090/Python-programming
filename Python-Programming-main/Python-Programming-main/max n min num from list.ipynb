{
 "cells": [
  {
   "cell_type": "code",
   "execution_count": 7,
   "id": "d96fe935-54c6-485d-8ade-a86a3f2a3ec1",
   "metadata": {},
   "outputs": [
    {
     "name": "stdin",
     "output_type": "stream",
     "text": [
      "Enter a list of numbers separated by commas:  3,5,9,1,6,8\n"
     ]
    },
    {
     "name": "stdout",
     "output_type": "stream",
     "text": [
      "Largest number: 9, Smallest number: 1\n"
     ]
    }
   ],
   "source": [
    "x = input(\"Enter a list of numbers separated by commas: \")\n",
    "\n",
    "\n",
    "y = [int(num) for num in x.split(\",\")]\n",
    "\n",
    "\n",
    "largest_num = max(y)\n",
    "smallest_num = min(y)\n",
    "\n",
    "\n",
    "print(f\"Largest number: {largest_num}, Smallest number: {smallest_num}\")\n"
   ]
  },
  {
   "cell_type": "code",
   "execution_count": 8,
   "id": "aa533a38-aa03-44b2-99ca-dd1cbaee3391",
   "metadata": {},
   "outputs": [
    {
     "name": "stdin",
     "output_type": "stream",
     "text": [
      "Enter a number of list 3,5,9,1,6,8\n"
     ]
    },
    {
     "name": "stdout",
     "output_type": "stream",
     "text": [
      "Largest number: 9, Smallest number: 1\n"
     ]
    }
   ],
   "source": [
    "x = input(\"Enter a number of list\")\n",
    "\n",
    "y = [int(num) for num in x.split(\",\")]\n",
    "\n",
    "largest_num = y[0] \n",
    "smallest_num = y[0\n",
    "\n",
    "for num in y:\n",
    "    if num > largest_num:\n",
    "        largest_num = num\n",
    "    if num < smallest_num:\n",
    "        smallest_num = num\n",
    "        \n",
    "\n",
    "print(f\"Largest number: {largest_num}, Smallest number: {smallest_num}\")"
   ]
  },
  {
   "cell_type": "code",
   "execution_count": null,
   "id": "d3475102-edc7-4afc-980f-18a2a3ac3ff7",
   "metadata": {},
   "outputs": [],
   "source": []
  }
 ],
 "metadata": {
  "kernelspec": {
   "display_name": "Python 3 (ipykernel)",
   "language": "python",
   "name": "python3"
  },
  "language_info": {
   "codemirror_mode": {
    "name": "ipython",
    "version": 3
   },
   "file_extension": ".py",
   "mimetype": "text/x-python",
   "name": "python",
   "nbconvert_exporter": "python",
   "pygments_lexer": "ipython3",
   "version": "3.12.2"
  }
 },
 "nbformat": 4,
 "nbformat_minor": 5
}
