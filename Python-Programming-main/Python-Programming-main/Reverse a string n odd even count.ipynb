{
 "cells": [
  {
   "cell_type": "code",
   "execution_count": 1,
   "id": "e158650d-d991-496d-9ef6-a6dd6dc152a9",
   "metadata": {},
   "outputs": [
    {
     "name": "stdout",
     "output_type": "stream",
     "text": [
      "erolagnaB\n"
     ]
    }
   ],
   "source": [
    "x = \"Bangalore\"\n",
    "print(x[::-1])  "
   ]
  },
  {
   "cell_type": "markdown",
   "id": "68fb5fe1-3cc4-498b-828b-bc40b3db8095",
   "metadata": {},
   "source": [
    "---"
   ]
  },
  {
   "cell_type": "markdown",
   "id": "47c5dced-c5da-4041-bf7d-fa0ebbb86abf",
   "metadata": {},
   "source": [
    "### write a program to find odd and even number in range of 50"
   ]
  },
  {
   "cell_type": "code",
   "execution_count": 1,
   "id": "1f521a88-7af2-4166-a677-8214c6e49ead",
   "metadata": {},
   "outputs": [
    {
     "name": "stdout",
     "output_type": "stream",
     "text": [
      "Total even numbers: 25\n",
      "Total odd numbers: 25\n"
     ]
    }
   ],
   "source": [
    "even_count = 0  \n",
    "odd_count = 0 \n",
    "\n",
    "for i in range(1, 51): \n",
    "    if i % 2 == 0: \n",
    "        even_count += 1 \n",
    "    else:\n",
    "        odd_count += 1  \n",
    "\n",
    "print(f\"Total even numbers: {even_count}\")\n",
    "print(f\"Total odd numbers: {odd_count}\")"
   ]
  },
  {
   "cell_type": "code",
   "execution_count": null,
   "id": "f1086d5f-46cb-426d-8b5e-bf885f9f6ca1",
   "metadata": {},
   "outputs": [],
   "source": []
  }
 ],
 "metadata": {
  "kernelspec": {
   "display_name": "Python 3 (ipykernel)",
   "language": "python",
   "name": "python3"
  },
  "language_info": {
   "codemirror_mode": {
    "name": "ipython",
    "version": 3
   },
   "file_extension": ".py",
   "mimetype": "text/x-python",
   "name": "python",
   "nbconvert_exporter": "python",
   "pygments_lexer": "ipython3",
   "version": "3.12.2"
  }
 },
 "nbformat": 4,
 "nbformat_minor": 5
}
