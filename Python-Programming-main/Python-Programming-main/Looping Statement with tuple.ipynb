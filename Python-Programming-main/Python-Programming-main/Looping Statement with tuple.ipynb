{
 "cells": [
  {
   "cell_type": "code",
   "execution_count": 1,
   "id": "fd17171f-8ab1-40c4-b5c6-669394dfda70",
   "metadata": {},
   "outputs": [
    {
     "name": "stdout",
     "output_type": "stream",
     "text": [
      "1\n",
      "2\n",
      "3\n",
      "4\n",
      "5\n"
     ]
    }
   ],
   "source": [
    "for i in range(1,6):\n",
    "    print(i)\n"
   ]
  },
  {
   "cell_type": "code",
   "execution_count": 2,
   "id": "73b7c455-0d39-4696-b98c-e310e3226b4c",
   "metadata": {},
   "outputs": [
    {
     "name": "stdout",
     "output_type": "stream",
     "text": [
      "1\n",
      "3\n",
      "5\n",
      "7\n",
      "9\n",
      "11\n",
      "13\n",
      "15\n",
      "17\n",
      "19\n",
      "21\n",
      "23\n",
      "25\n",
      "27\n",
      "29\n",
      "31\n",
      "33\n",
      "35\n",
      "37\n",
      "39\n",
      "41\n",
      "43\n",
      "45\n",
      "47\n",
      "49\n"
     ]
    }
   ],
   "source": [
    "for i in range(50):\n",
    "    if(i%2 != 0):\n",
    "        print(i)"
   ]
  },
  {
   "cell_type": "code",
   "execution_count": 3,
   "id": "2e16a4f1-287b-4781-8be8-df9aeeee6536",
   "metadata": {},
   "outputs": [
    {
     "name": "stdout",
     "output_type": "stream",
     "text": [
      "('hello',)\n",
      "('hello',)\n",
      "('hello',)\n"
     ]
    }
   ],
   "source": [
    "tuple1 = ('hello')\n",
    "n = 3\n",
    "\n",
    "for i in range(int(n)):\n",
    "    Tuple = (tuple1,)\n",
    "    print(Tuple)"
   ]
  },
  {
   "cell_type": "code",
   "execution_count": 4,
   "id": "57d211d2-da1a-4e96-a724-09a42718c43e",
   "metadata": {},
   "outputs": [
    {
     "name": "stdout",
     "output_type": "stream",
     "text": [
      "5\n"
     ]
    }
   ],
   "source": [
    "tuple2 = ('developer', 5 , 6.8, 'r' , 8)\n",
    "print(len(tuple2))"
   ]
  },
  {
   "cell_type": "code",
   "execution_count": 5,
   "id": "06d52cda-2d06-430c-b7b7-3839735dafef",
   "metadata": {},
   "outputs": [
    {
     "name": "stdout",
     "output_type": "stream",
     "text": [
      "89\n",
      "4\n",
      "115\n",
      "[89, 9, 8, 5, 4]\n"
     ]
    }
   ],
   "source": [
    "tuple3 = (9,5,89,4,8)\n",
    "print(max(tuple3))\n",
    "print(min(tuple3))\n",
    "print(sum(tuple3))\n",
    "print(sorted(tuple3, reverse=True))"
   ]
  },
  {
   "cell_type": "code",
   "execution_count": 6,
   "id": "95ae422b-35e2-4f66-a119-8cb7efc2fabf",
   "metadata": {},
   "outputs": [
    {
     "name": "stdout",
     "output_type": "stream",
     "text": [
      "True\n"
     ]
    }
   ],
   "source": [
    "tuple4 = (4,1)\n",
    "print(all(tuple4))"
   ]
  },
  {
   "cell_type": "code",
   "execution_count": 7,
   "id": "12ce023e-9828-4386-88da-25a2bd6e6b31",
   "metadata": {},
   "outputs": [
    {
     "name": "stdout",
     "output_type": "stream",
     "text": [
      "((26, 45, 'hello', 7.5), (26, 45, 'hello', 7.5))\n",
      "(26, 45, 'hello', 7.5, 26, 45, 'hello', 7.5)\n"
     ]
    }
   ],
   "source": [
    "value1 = (26,45,'hello', 7.5)\n",
    "value2 = (26,45,'hello', 7.5)\n",
    "\n",
    "value3 = value1 , value2\n",
    "value4 = value1 + value2\n",
    "print(value3)\n",
    "print(value4)"
   ]
  },
  {
   "cell_type": "code",
   "execution_count": 8,
   "id": "8677bac4-2d64-4f05-b69a-8e72c19d77d5",
   "metadata": {},
   "outputs": [
    {
     "name": "stdin",
     "output_type": "stream",
     "text": [
      "Enter the number of elements:  3\n",
      " 1\n",
      " 23\n",
      " 4\n"
     ]
    },
    {
     "name": "stdout",
     "output_type": "stream",
     "text": [
      "Tuple: (1, 23, 4)\n"
     ]
    }
   ],
   "source": [
    "n = int(input(\"Enter the number of elements: \"))\n",
    "list2 = []\n",
    "\n",
    "for i in range(n):\n",
    "    list2.append(int(input()))\n",
    "\n",
    "value = tuple(list2)\n",
    "print(\"Tuple:\", value)"
   ]
  },
  {
   "cell_type": "code",
   "execution_count": 9,
   "id": "3d2da771-9b88-4f82-b647-66ac1becc4fb",
   "metadata": {},
   "outputs": [
    {
     "name": "stdout",
     "output_type": "stream",
     "text": [
      "1\n",
      "2\n",
      "3\n",
      "4\n"
     ]
    }
   ],
   "source": [
    "num = ('1','2','3','4')\n",
    "i = 0\n",
    "while i < len(num):\n",
    "    print(num[i])\n",
    "    i = i + 1"
   ]
  },
  {
   "cell_type": "code",
   "execution_count": 14,
   "id": "2f73997c-c491-4706-a7a7-e103d0aa1214",
   "metadata": {},
   "outputs": [
    {
     "name": "stdout",
     "output_type": "stream",
     "text": [
      "45\n"
     ]
    }
   ],
   "source": [
    "value_tup = (26,12,10,6,67,91,45,'hello', 7.5, 99,7, 'name')\n",
    "\n",
    "for i in value_tup:\n",
    "    if i == 45:\n",
    "        print(i)"
   ]
  },
  {
   "cell_type": "code",
   "execution_count": 15,
   "id": "d2f234af-288f-45a1-b30a-5250684948f4",
   "metadata": {},
   "outputs": [],
   "source": [
    "# unpacking the tuples"
   ]
  },
  {
   "cell_type": "code",
   "execution_count": 19,
   "id": "7d42ce8e-9519-48ce-a582-45660a278937",
   "metadata": {},
   "outputs": [
    {
     "name": "stdout",
     "output_type": "stream",
     "text": [
      "1\n",
      "2\n",
      "3\n",
      "4\n"
     ]
    }
   ],
   "source": [
    "number = ('1','2','3','4')\n",
    "(a,b,c,d) = number\n",
    "print(a)\n",
    "print(b)\n",
    "print(c)\n",
    "print(d)"
   ]
  },
  {
   "cell_type": "code",
   "execution_count": 22,
   "id": "3fd7cbf0-1742-4c3f-86e1-d4ac70e3e297",
   "metadata": {},
   "outputs": [
    {
     "name": "stdout",
     "output_type": "stream",
     "text": [
      "1\n",
      "2\n",
      "3\n",
      "4\n"
     ]
    }
   ],
   "source": [
    "number = ('1','2','3','4')\n",
    "(a,b,c, d) = number\n",
    "print(a)\n",
    "print(b)\n",
    "print(c)\n",
    "print(d)"
   ]
  },
  {
   "cell_type": "code",
   "execution_count": 24,
   "id": "3791f933-2c58-4cbc-9fab-9c7bd53b8255",
   "metadata": {},
   "outputs": [
    {
     "name": "stdout",
     "output_type": "stream",
     "text": [
      "1 2\n",
      "3\n",
      "4\n"
     ]
    }
   ],
   "source": [
    "number = ('1','2','3','4')\n",
    "(*a,b,c) = number\n",
    "print(*a)\n",
    "print(b)\n",
    "print(c)"
   ]
  },
  {
   "cell_type": "code",
   "execution_count": null,
   "id": "7030fdbc-ff83-4402-a1f4-021050f6197c",
   "metadata": {},
   "outputs": [],
   "source": []
  }
 ],
 "metadata": {
  "kernelspec": {
   "display_name": "Python 3 (ipykernel)",
   "language": "python",
   "name": "python3"
  },
  "language_info": {
   "codemirror_mode": {
    "name": "ipython",
    "version": 3
   },
   "file_extension": ".py",
   "mimetype": "text/x-python",
   "name": "python",
   "nbconvert_exporter": "python",
   "pygments_lexer": "ipython3",
   "version": "3.12.2"
  }
 },
 "nbformat": 4,
 "nbformat_minor": 5
}
