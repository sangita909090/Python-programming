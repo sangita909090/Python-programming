{
 "cells": [
  {
   "cell_type": "code",
   "execution_count": 1,
   "id": "eaa7f2ce-c97c-49a1-8e6c-f0309924ea2d",
   "metadata": {},
   "outputs": [
    {
     "name": "stdout",
     "output_type": "stream",
     "text": [
      "Integer List: [1, 2, 3, 4, 5]\n",
      "Float List: [1.1, 2.2, 3.3, 4.4, 5.5]\n",
      "String List: ['apple', 'banana', 'cherry']\n",
      "Mixed List: [1, 2.5, 'hello']\n"
     ]
    }
   ],
   "source": [
    "# List of integers\n",
    "int_list = [1, 2, 3, 4, 5]\n",
    "\n",
    "# List of floats\n",
    "float_list = [1.1, 2.2, 3.3, 4.4, 5.5]\n",
    "\n",
    "# List of strings\n",
    "string_list = [\"apple\", \"banana\", \"cherry\"]\n",
    "\n",
    "# Mixed list of int, float, and string\n",
    "mixed_list = [1, 2.5, \"hello\"]\n",
    "\n",
    "# Printing each list\n",
    "print(\"Integer List:\", int_list)\n",
    "print(\"Float List:\", float_list)\n",
    "print(\"String List:\", string_list)\n",
    "print(\"Mixed List:\", mixed_list)"
   ]
  },
  {
   "cell_type": "markdown",
   "id": "965d5c15-a418-4308-b166-aeb4fd8277d9",
   "metadata": {},
   "source": [
    "## list within list"
   ]
  },
  {
   "cell_type": "code",
   "execution_count": 2,
   "id": "6f0dea68-4ad4-4930-aa8f-c997053fed7e",
   "metadata": {},
   "outputs": [
    {
     "data": {
      "text/plain": [
       "[[1, 2, 34], [[4, 5, 6, 7], [10.5, 11.5]]]"
      ]
     },
     "execution_count": 2,
     "metadata": {},
     "output_type": "execute_result"
    }
   ],
   "source": [
    "x = [[1,2,34],\n",
    "       [[4,5,6,7]\n",
    "        ,[10.5,11.5]\n",
    "       ]\n",
    "    ]\n",
    "x"
   ]
  },
  {
   "cell_type": "code",
   "execution_count": 3,
   "id": "4e86432c-aae2-4595-97b2-2f5bd0abeaae",
   "metadata": {},
   "outputs": [
    {
     "data": {
      "text/plain": [
       "[1, 2.5]"
      ]
     },
     "execution_count": 3,
     "metadata": {},
     "output_type": "execute_result"
    }
   ],
   "source": [
    "a = [1, 2.5, \"hello\"]\n",
    "a[0:2]"
   ]
  },
  {
   "cell_type": "markdown",
   "id": "3bc16927-f2f2-48ba-b4b3-01b8bd7294f8",
   "metadata": {},
   "source": [
    "## slicing"
   ]
  },
  {
   "cell_type": "code",
   "execution_count": 4,
   "id": "6f63e193-9639-42dc-be3e-e22524a992a4",
   "metadata": {},
   "outputs": [
    {
     "data": {
      "text/plain": [
       "[2.5, 'hello']"
      ]
     },
     "execution_count": 4,
     "metadata": {},
     "output_type": "execute_result"
    }
   ],
   "source": [
    "a = [1, 2.5,'a', \"hello\",\"anfjk\",'dwhjb']\n",
    "a[1:5:2]"
   ]
  },
  {
   "cell_type": "markdown",
   "id": "af926c06-7088-4a14-9831-902c89c24249",
   "metadata": {},
   "source": [
    "## Operation on list"
   ]
  },
  {
   "cell_type": "code",
   "execution_count": 5,
   "id": "c3e88dc5-96dd-4c15-ba4c-e82e695df612",
   "metadata": {},
   "outputs": [
    {
     "data": {
      "text/plain": [
       "[0, 0, 0, 0, 0]"
      ]
     },
     "execution_count": 5,
     "metadata": {},
     "output_type": "execute_result"
    }
   ],
   "source": [
    "a = [0] * 5\n",
    "a"
   ]
  },
  {
   "cell_type": "code",
   "execution_count": 6,
   "id": "ab8368ee-5dfc-40b7-8231-a61d42fe1238",
   "metadata": {},
   "outputs": [
    {
     "name": "stdout",
     "output_type": "stream",
     "text": [
      "['a', 'b', 'c', 'd', 'python', 'list']\n"
     ]
    }
   ],
   "source": [
    "letter = ['a','b','c','d']\n",
    "stg = ['python', 'list']\n",
    "\n",
    "print(letter + stg)"
   ]
  },
  {
   "cell_type": "code",
   "execution_count": 7,
   "id": "6c331cd0-e78d-4057-9db0-ed3e0328cff2",
   "metadata": {},
   "outputs": [
    {
     "data": {
      "text/plain": [
       "['p', 'y', 't', 'h', 'o', 'n']"
      ]
     },
     "execution_count": 7,
     "metadata": {},
     "output_type": "execute_result"
    }
   ],
   "source": [
    "a = list(\"python\")\n",
    "a"
   ]
  },
  {
   "cell_type": "code",
   "execution_count": 8,
   "id": "5467ffe2-ff72-4dfc-8b61-91713edcd65f",
   "metadata": {},
   "outputs": [
    {
     "name": "stdout",
     "output_type": "stream",
     "text": [
      "1\n",
      "[23, 4, 5]\n"
     ]
    }
   ],
   "source": [
    "num = [1,23,4,5]\n",
    "a, *other = num\n",
    "print(a)\n",
    "print(other)"
   ]
  },
  {
   "cell_type": "code",
   "execution_count": 9,
   "id": "a39ea15e-82b8-4d90-8b50-ee8ce1877b6f",
   "metadata": {},
   "outputs": [
    {
     "name": "stdout",
     "output_type": "stream",
     "text": [
      "apple\n",
      "banana\n",
      "pineapple\n",
      "mango\n"
     ]
    }
   ],
   "source": [
    "fruit = ['apple','banana','orange','pineapple','mango']\n",
    "\n",
    "for i in fruit:\n",
    "    if i == 'orange':\n",
    "        continue\n",
    "    print(i)"
   ]
  },
  {
   "cell_type": "code",
   "execution_count": 10,
   "id": "ca1c72c2-5e2e-40fc-9932-6a558b74a8ba",
   "metadata": {},
   "outputs": [
    {
     "name": "stdout",
     "output_type": "stream",
     "text": [
      "5\n",
      "10\n",
      "15\n",
      "20\n",
      "25\n"
     ]
    }
   ],
   "source": [
    "num = [1,2,3,4,5]\n",
    "for i in num:\n",
    "    print(i * 5)"
   ]
  },
  {
   "cell_type": "code",
   "execution_count": 11,
   "id": "9d4fa882-eede-474f-adf4-b3e07a46df66",
   "metadata": {},
   "outputs": [
    {
     "name": "stdout",
     "output_type": "stream",
     "text": [
      "[1, 2, 3, 4, 5, 8]\n"
     ]
    }
   ],
   "source": [
    "num = [1,2,3,4,5]\n",
    "num.append(8)\n",
    "print(num)"
   ]
  },
  {
   "cell_type": "code",
   "execution_count": 12,
   "id": "05756e66-6642-4f35-8648-9d2e5e77b6c9",
   "metadata": {},
   "outputs": [
    {
     "name": "stdout",
     "output_type": "stream",
     "text": [
      "[1, 2, 3, 4, 5, 'fhd', 'fnd']\n"
     ]
    }
   ],
   "source": [
    "num = [1,2,3,4,5]\n",
    "stg=['fhd','fnd']\n",
    "num.extend(stg)\n",
    "print(num)"
   ]
  },
  {
   "cell_type": "code",
   "execution_count": 13,
   "id": "02b2aa6e-73bd-42bc-bb7d-ca1ce6ab8135",
   "metadata": {},
   "outputs": [
    {
     "name": "stdout",
     "output_type": "stream",
     "text": [
      "['fhd', 'fnd', 1, 2, 3, 4, 5]\n"
     ]
    }
   ],
   "source": [
    "num = [1,2,3,4,5]\n",
    "stg=['fhd','fnd']\n",
    "stg.extend(num)\n",
    "print(stg)"
   ]
  },
  {
   "cell_type": "code",
   "execution_count": 14,
   "id": "a913f61a-3cdc-4bc1-89f1-0c49d7af7478",
   "metadata": {},
   "outputs": [
    {
     "name": "stdout",
     "output_type": "stream",
     "text": [
      "[1, 2, 3, 4, 5, 'fhd', 'fnd']\n",
      "[1, 2, 3, 4, 'apple', 5, 'fhd', 'fnd']\n"
     ]
    }
   ],
   "source": [
    "num = [1,2,3,4,5]\n",
    "stg=['fhd','fnd']\n",
    "num.extend(stg)\n",
    "print(num)\n",
    "num.insert(4,'apple')\n",
    "print(num)"
   ]
  },
  {
   "cell_type": "markdown",
   "id": "1e203c39-e82e-461c-8025-5624912ea7ef",
   "metadata": {},
   "source": [
    "## sorting element in list"
   ]
  },
  {
   "cell_type": "code",
   "execution_count": 15,
   "id": "7e7e1b0a-2ae4-4e28-87c6-82f22d38b7f4",
   "metadata": {},
   "outputs": [
    {
     "name": "stdout",
     "output_type": "stream",
     "text": [
      "[1, 2, 4, 7, 8, 9, 9, 67, 4346]\n"
     ]
    }
   ],
   "source": [
    "a = [1,4,67,8,9,4346,7,9,2]\n",
    "a.sort()\n",
    "print(a)"
   ]
  },
  {
   "cell_type": "code",
   "execution_count": 16,
   "id": "871970e3-d97c-436c-8abf-a45ae9a441a1",
   "metadata": {},
   "outputs": [
    {
     "name": "stdout",
     "output_type": "stream",
     "text": [
      "[4346, 67, 9, 9, 8, 7, 4, 2, 1]\n"
     ]
    }
   ],
   "source": [
    "a = [1,4,67,8,9,4346,7,9,2]\n",
    "a.sort(reverse=True)\n",
    "print(a)"
   ]
  },
  {
   "cell_type": "code",
   "execution_count": 17,
   "id": "8049c782-199f-40e8-b160-119a3d3efc3b",
   "metadata": {},
   "outputs": [
    {
     "name": "stdout",
     "output_type": "stream",
     "text": [
      "10\n",
      "20\n",
      "30\n",
      "40\n",
      "50\n"
     ]
    }
   ],
   "source": [
    "a = [10,20,30,40,50]\n",
    "i = 0\n",
    "while i < len(a):\n",
    "    print(a[i])\n",
    "    i += 1"
   ]
  },
  {
   "cell_type": "code",
   "execution_count": 18,
   "id": "e1f873d0-59cc-4ddb-b03e-ac791a15f7ea",
   "metadata": {},
   "outputs": [
    {
     "name": "stdout",
     "output_type": "stream",
     "text": [
      "Not Found\n",
      "Not Found\n",
      "Value Found\n"
     ]
    }
   ],
   "source": [
    "a = [10,20,30,40,50]\n",
    "i = 0\n",
    "while i < len(a):\n",
    "    if a[i] == 30:\n",
    "        print(\"Value Found\")\n",
    "        break\n",
    "    else:\n",
    "        print(\"Not Found\")\n",
    "    i += 1"
   ]
  },
  {
   "cell_type": "code",
   "execution_count": 19,
   "id": "bb9c4764-df60-4222-9400-5614532cc793",
   "metadata": {},
   "outputs": [
    {
     "name": "stdout",
     "output_type": "stream",
     "text": [
      "Value Found\n"
     ]
    }
   ],
   "source": [
    "for i in a:\n",
    "    if i == 30:\n",
    "        print(\"Value Found\")\n",
    "        break\n",
    "else:\n",
    "    print(\"Not Found\")"
   ]
  },
  {
   "cell_type": "code",
   "execution_count": 20,
   "id": "b8af1031-0bae-4e47-b93d-f11a73d13686",
   "metadata": {},
   "outputs": [
    {
     "name": "stdout",
     "output_type": "stream",
     "text": [
      "2\n"
     ]
    }
   ],
   "source": [
    "for i in range(len(a)):\n",
    "    if a[i] == 30:\n",
    "        print(i)\n",
    "        break"
   ]
  },
  {
   "cell_type": "code",
   "execution_count": 21,
   "id": "70885bd5-1c4e-48fd-8b82-24100f4d22be",
   "metadata": {},
   "outputs": [
    {
     "data": {
      "text/plain": [
       "2"
      ]
     },
     "execution_count": 21,
     "metadata": {},
     "output_type": "execute_result"
    }
   ],
   "source": [
    "a.index(30)"
   ]
  },
  {
   "cell_type": "code",
   "execution_count": 22,
   "id": "7ab9c0c3-3a81-43d6-96a4-bce1035dfa18",
   "metadata": {},
   "outputs": [
    {
     "name": "stdout",
     "output_type": "stream",
     "text": [
      "22\n",
      "25\n",
      "84\n"
     ]
    }
   ],
   "source": [
    "b = [10, 20, 89, 78, 5, 6, 7, 25, 9, 10, 23, 12, 35, 14, 15, 20, 17, 18, 87, 20, 21, 22, 72, 24, 84]\n",
    "print(b[21])\n",
    "print(len(b))\n",
    "print(b[-1])"
   ]
  },
  {
   "cell_type": "code",
   "execution_count": 23,
   "id": "a864a672-9b58-4a89-84c3-9470656d171e",
   "metadata": {},
   "outputs": [
    {
     "data": {
      "text/plain": [
       "84"
      ]
     },
     "execution_count": 23,
     "metadata": {},
     "output_type": "execute_result"
    }
   ],
   "source": [
    "b[len(b) - 1]"
   ]
  },
  {
   "cell_type": "code",
   "execution_count": 24,
   "id": "c248a391-0063-4729-a4f4-3933315b242d",
   "metadata": {},
   "outputs": [
    {
     "name": "stdout",
     "output_type": "stream",
     "text": [
      "[1, 'ABC', 84.9, 'a', 'H', 'E', 'l', 'l', 'O']\n"
     ]
    }
   ],
   "source": [
    "information = [1,'ABC',84.9,'a']\n",
    "wrd = \"HEllO\"\n",
    "\n",
    "for i in wrd:\n",
    "    information.append(i)\n",
    "\n",
    "print(information)"
   ]
  },
  {
   "cell_type": "code",
   "execution_count": 4,
   "id": "ef95ec3d-7c3e-42dc-b529-e9e885c01400",
   "metadata": {},
   "outputs": [
    {
     "name": "stdout",
     "output_type": "stream",
     "text": [
      "[1, 'ABC', 84.9, 'a', 'H', 'e', 'l', 'l', 'o']\n"
     ]
    }
   ],
   "source": [
    "information1 = [1, 'ABC', 84.9, 'a']\n",
    "information1.extend(\"Hello\")\n",
    "print(information1)"
   ]
  },
  {
   "cell_type": "code",
   "execution_count": 25,
   "id": "ce837391-6f8c-457a-aff6-4e6d430ae434",
   "metadata": {},
   "outputs": [
    {
     "name": "stdout",
     "output_type": "stream",
     "text": [
      "[1, 'XYZ', 84.9, 'a', 'H', 'E', 'l', 'l', 'O']\n"
     ]
    }
   ],
   "source": [
    "information[1] = \"XYZ\"\n",
    "print(information)"
   ]
  },
  {
   "cell_type": "markdown",
   "id": "b0b8dad0-c137-47d0-a74f-fbc9c44d5371",
   "metadata": {},
   "source": [
    "## Slicing Operator"
   ]
  },
  {
   "cell_type": "code",
   "execution_count": 26,
   "id": "02e910dd-9252-450e-b731-5b9190d8f046",
   "metadata": {},
   "outputs": [
    {
     "data": {
      "text/plain": [
       "[1, 'XYZ', 84.9]"
      ]
     },
     "execution_count": 26,
     "metadata": {},
     "output_type": "execute_result"
    }
   ],
   "source": [
    "information[:3]"
   ]
  },
  {
   "cell_type": "code",
   "execution_count": 27,
   "id": "7fbc85e0-cf25-42b1-8496-0f767732f870",
   "metadata": {},
   "outputs": [
    {
     "data": {
      "text/plain": [
       "[1, 'XYZ', 84.9]"
      ]
     },
     "execution_count": 27,
     "metadata": {},
     "output_type": "execute_result"
    }
   ],
   "source": [
    "information[0:3]"
   ]
  },
  {
   "cell_type": "code",
   "execution_count": 28,
   "id": "efb38dc8-9323-467d-88ae-93e5cd6249e0",
   "metadata": {},
   "outputs": [
    {
     "data": {
      "text/plain": [
       "[1, 'H', 'O']"
      ]
     },
     "execution_count": 28,
     "metadata": {},
     "output_type": "execute_result"
    }
   ],
   "source": [
    "information[::4]"
   ]
  },
  {
   "cell_type": "code",
   "execution_count": 29,
   "id": "683bbfc6-754f-488c-9590-120d586c8080",
   "metadata": {},
   "outputs": [
    {
     "data": {
      "text/plain": [
       "[1, 'XYZ', 84.9, 'a', 'H', 'E', 'l', 'l', 'O']"
      ]
     },
     "execution_count": 29,
     "metadata": {},
     "output_type": "execute_result"
    }
   ],
   "source": [
    "information"
   ]
  },
  {
   "cell_type": "code",
   "execution_count": 30,
   "id": "feec0c1d-f834-49ac-853c-cf958a67b104",
   "metadata": {},
   "outputs": [
    {
     "data": {
      "text/plain": [
       "['XYZ', 'a', 'E']"
      ]
     },
     "execution_count": 30,
     "metadata": {},
     "output_type": "execute_result"
    }
   ],
   "source": [
    "information[1:6:2]"
   ]
  },
  {
   "cell_type": "code",
   "execution_count": 31,
   "id": "060b3095-e374-42cc-841b-7c1c06d49f00",
   "metadata": {},
   "outputs": [
    {
     "data": {
      "text/plain": [
       "[1, 'a', 'l']"
      ]
     },
     "execution_count": 31,
     "metadata": {},
     "output_type": "execute_result"
    }
   ],
   "source": [
    "information[::3]"
   ]
  },
  {
   "cell_type": "code",
   "execution_count": 32,
   "id": "cc9f92b5-5b7e-4a93-8fad-a35641a4415f",
   "metadata": {},
   "outputs": [
    {
     "data": {
      "text/plain": [
       "['O', 'l', 'l', 'E', 'H', 'a', 84.9, 'XYZ', 1]"
      ]
     },
     "execution_count": 32,
     "metadata": {},
     "output_type": "execute_result"
    }
   ],
   "source": [
    "information[::-1]"
   ]
  },
  {
   "cell_type": "code",
   "execution_count": 33,
   "id": "456a5ee4-92ef-44b0-b008-b102e9bbd73a",
   "metadata": {},
   "outputs": [],
   "source": [
    "student = [2,'STU', 8.58,'Female', \"india\", \"745664738\"]"
   ]
  },
  {
   "cell_type": "code",
   "execution_count": 34,
   "id": "edc35326-690f-47ce-b46d-673a7eab17ae",
   "metadata": {},
   "outputs": [
    {
     "data": {
      "text/plain": [
       "['745664738', 8.58]"
      ]
     },
     "execution_count": 34,
     "metadata": {},
     "output_type": "execute_result"
    }
   ],
   "source": [
    "student[::-3]"
   ]
  },
  {
   "cell_type": "code",
   "execution_count": 35,
   "id": "8f784842-13dd-455a-a761-672fc313f1da",
   "metadata": {},
   "outputs": [
    {
     "data": {
      "text/plain": [
       "[2, 8.58, 'india']"
      ]
     },
     "execution_count": 35,
     "metadata": {},
     "output_type": "execute_result"
    }
   ],
   "source": [
    "student[0::2]"
   ]
  },
  {
   "cell_type": "code",
   "execution_count": 36,
   "id": "05393a86-b7cf-4650-9165-a2b35ee8901b",
   "metadata": {},
   "outputs": [
    {
     "name": "stdin",
     "output_type": "stream",
     "text": [
      " 234\n"
     ]
    },
    {
     "name": "stdout",
     "output_type": "stream",
     "text": [
      "[234, 234, 234, 234, 234, 234, 234, 234, 234, 234, 234, 234, 234, 234, 234, 234, 234, 234, 234, 234, 234, 234, 234, 234, 234, 234, 234, 234, 234, 234, 234, 234, 234, 234, 234, 234, 234, 234, 234, 234, 234, 234, 234, 234, 234, 234, 234, 234, 234, 234, 234, 234, 234, 234, 234, 234, 234, 234, 234, 234, 234, 234, 234, 234, 234, 234, 234, 234, 234, 234, 234, 234, 234, 234, 234, 234, 234, 234, 234, 234, 234, 234, 234, 234, 234, 234, 234, 234, 234, 234, 234, 234, 234, 234, 234, 234, 234, 234, 234, 234]\n",
      "100\n"
     ]
    }
   ],
   "source": [
    "x = int(input())\n",
    "y = []\n",
    "for i in range(0,100):\n",
    "    y.append(x)\n",
    "\n",
    "print(y)\n",
    "print(len(y))"
   ]
  },
  {
   "cell_type": "markdown",
   "id": "bab0c194-04bc-48f3-9830-6be0599e7468",
   "metadata": {},
   "source": [
    "## Exercise"
   ]
  },
  {
   "cell_type": "code",
   "execution_count": 37,
   "id": "320defe8-312f-4b8a-b95c-8ecc972e120c",
   "metadata": {},
   "outputs": [
    {
     "name": "stdout",
     "output_type": "stream",
     "text": [
      "[1, 3, 5, 7, 9]\n"
     ]
    }
   ],
   "source": [
    "y = []\n",
    "for i in range(1,11,2):\n",
    "    y.append(i)\n",
    "\n",
    "print(y)"
   ]
  },
  {
   "cell_type": "code",
   "execution_count": 38,
   "id": "ecfa7614-70bd-4502-a8bf-d201413af0ea",
   "metadata": {},
   "outputs": [
    {
     "name": "stdout",
     "output_type": "stream",
     "text": [
      "[1, 2, 3, 4, 5, 6, 7, 8, 9, 10]\n",
      "[1, 3, 5, 7, 9]\n"
     ]
    }
   ],
   "source": [
    "y = []\n",
    "for i in range(1,11):\n",
    "    y.append(i)\n",
    "\n",
    "print(y)\n",
    "\n",
    "x = []\n",
    "\n",
    "for j in y:\n",
    "    if j%2 != 0:\n",
    "        x.append(j)\n",
    "\n",
    "print(x)"
   ]
  },
  {
   "cell_type": "code",
   "execution_count": 39,
   "id": "3ea9e7be-e0f1-42c2-a4f0-4a7575698568",
   "metadata": {},
   "outputs": [
    {
     "name": "stdout",
     "output_type": "stream",
     "text": [
      "[0, 1, 2, 3, 4, 5, 6, 7, 8, 9, 10]\n",
      "[1, 3, 5, 7, 9]\n"
     ]
    }
   ],
   "source": [
    "g1 = list(range(0,11))\n",
    "print(g1)\n",
    "\n",
    "g2 = list(range(1,len(g1),2))\n",
    "print(g2)"
   ]
  },
  {
   "cell_type": "code",
   "execution_count": 40,
   "id": "1a86ed95-987e-4cb1-ac25-5c4c4eb1eeb6",
   "metadata": {},
   "outputs": [
    {
     "name": "stdout",
     "output_type": "stream",
     "text": [
      "[1, 2, 3, 4, 5, 6, 7, 8, 9, 10]\n",
      "[2, 4, 6, 8, 10]\n"
     ]
    }
   ],
   "source": [
    "y = []\n",
    "for i in range(1,11):\n",
    "    y.append(i)\n",
    "\n",
    "print(y)\n",
    "\n",
    "x = []\n",
    "for j in y:\n",
    "    if j%2 == 0:\n",
    "        x.append(j)\n",
    "\n",
    "print(x)"
   ]
  },
  {
   "cell_type": "code",
   "execution_count": 41,
   "id": "db4cc057-70a6-4e2d-a233-caa926dcb83d",
   "metadata": {},
   "outputs": [
    {
     "name": "stdout",
     "output_type": "stream",
     "text": [
      "[0, 1, 2, 3, 4, 5, 6, 7, 8, 9, 10]\n",
      "[0, 2, 4, 6, 8, 10]\n"
     ]
    }
   ],
   "source": [
    "f1 = list(range(0,11))\n",
    "print(f1)\n",
    "\n",
    "f2 = list(range(0,len(f1),2))\n",
    "print(f2)"
   ]
  },
  {
   "cell_type": "markdown",
   "id": "fd373575-d18e-42f7-8485-c68a9ae12f1a",
   "metadata": {},
   "source": [
    "## Concatenation"
   ]
  },
  {
   "cell_type": "code",
   "execution_count": 42,
   "id": "5fa1ce6d-4f23-4772-9e2b-5d5709622220",
   "metadata": {},
   "outputs": [
    {
     "name": "stdin",
     "output_type": "stream",
     "text": [
      " hefnjdsbnjf\n"
     ]
    },
    {
     "name": "stdout",
     "output_type": "stream",
     "text": [
      "['h', 'e', 'f', 'n', 'j', 'd', 's', 'b', 'n', 'j', 'f']\n"
     ]
    }
   ],
   "source": [
    "x = input()\n",
    "information2 = list(x)\n",
    "print(information2)"
   ]
  },
  {
   "cell_type": "code",
   "execution_count": 48,
   "id": "f43753ee-f2fe-4a6a-a1f4-fb7545399a07",
   "metadata": {},
   "outputs": [
    {
     "name": "stdin",
     "output_type": "stream",
     "text": [
      " 234243254\n",
      " 34235423\n"
     ]
    },
    {
     "name": "stdout",
     "output_type": "stream",
     "text": [
      "['2', '3', '4', '2', '4', '3', '2', '5', '4', ['3', '4', '2', '3', '5', '4', '2', '3']]\n"
     ]
    }
   ],
   "source": [
    "x1 = list(input())\n",
    "y1 = list(input()) \n",
    "\n",
    "x1.append(y1)\n",
    "print(x1)"
   ]
  },
  {
   "cell_type": "code",
   "execution_count": 5,
   "id": "95b2633c-9b2a-49fb-9eef-46038d1c2d15",
   "metadata": {},
   "outputs": [
    {
     "name": "stdin",
     "output_type": "stream",
     "text": [
      "Enter numbers separated by space:  3 4 5 6 2 3 56\n"
     ]
    },
    {
     "name": "stdout",
     "output_type": "stream",
     "text": [
      "6\n",
      "[3, 4, 5, 6, 2, 56]\n"
     ]
    }
   ],
   "source": [
    "x = list(map(int, input(\"Enter numbers separated by space: \").split()))\n",
    "dist = []  \n",
    "\n",
    "for i in x:\n",
    "    if i not in dist:  \n",
    "        dist.append(i)  \n",
    "\n",
    "print(len(dist))  \n",
    "print(dist)"
   ]
  },
  {
   "cell_type": "code",
   "execution_count": 10,
   "id": "a409bfbb-483a-4ae7-9fe4-46b069e63a27",
   "metadata": {},
   "outputs": [
    {
     "name": "stdin",
     "output_type": "stream",
     "text": [
      "Enter numbers separated by space:  3 3 3 3 22 2 2 11 1\n"
     ]
    },
    {
     "name": "stdout",
     "output_type": "stream",
     "text": [
      "7\n",
      "[3, 3, 3, 22, 2, 11, 1]\n",
      "2\n",
      "[3, 2]\n"
     ]
    }
   ],
   "source": [
    "x = list(map(int, input(\"Enter numbers separated by space: \").split()))\n",
    "dist = []  \n",
    "duplicates = []  \n",
    "\n",
    "for i in x:\n",
    "    if i in dist and i not in duplicates:  \n",
    "        duplicates.append(i)  \n",
    "    else:\n",
    "        dist.append(i)  \n",
    "\n",
    "print(len(dist))  \n",
    "print(dist) \n",
    "print(len(duplicates))  \n",
    "print(duplicates)  \n"
   ]
  },
  {
   "cell_type": "code",
   "execution_count": 15,
   "id": "b9af1435-0d55-460f-9a73-2e32a6629839",
   "metadata": {},
   "outputs": [
    {
     "name": "stdin",
     "output_type": "stream",
     "text": [
      " 12 6 26 10 67\n"
     ]
    },
    {
     "name": "stdout",
     "output_type": "stream",
     "text": [
      "[67, 6, 26, 10, 12]\n"
     ]
    }
   ],
   "source": [
    "list_1 = list(map(int, input().split()))\n",
    "list_1[0] = list_1[0] + list_1[-1]\n",
    "list_1[-1] = list_1[0] - list_1[-1]\n",
    "list_1[0] = list_1[0] - list_1[-1]\n",
    "print(list_1)"
   ]
  },
  {
   "cell_type": "code",
   "execution_count": null,
   "id": "5dbb72a3-c1e4-4f4d-a508-0e4279804617",
   "metadata": {},
   "outputs": [],
   "source": []
  }
 ],
 "metadata": {
  "kernelspec": {
   "display_name": "Python 3 (ipykernel)",
   "language": "python",
   "name": "python3"
  },
  "language_info": {
   "codemirror_mode": {
    "name": "ipython",
    "version": 3
   },
   "file_extension": ".py",
   "mimetype": "text/x-python",
   "name": "python",
   "nbconvert_exporter": "python",
   "pygments_lexer": "ipython3",
   "version": "3.12.2"
  }
 },
 "nbformat": 4,
 "nbformat_minor": 5
}
